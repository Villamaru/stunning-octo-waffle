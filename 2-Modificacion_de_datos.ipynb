{
 "cells": [
  {
   "cell_type": "code",
   "execution_count": 1,
   "metadata": {},
   "outputs": [],
   "source": [
    "#Importamos librerias\n",
    "import pandas as pd\n",
    "import numpy as np\n",
    "import matplotlib as mpl\n",
    "import seaborn as sns\n",
    "pd.options.display.max_rows = 30\n",
    "import matplotlib.pyplot as plt\n",
    "from scipy import stats\n",
    "%matplotlib inline"
   ]
  },
  {
   "cell_type": "code",
   "execution_count": 2,
   "metadata": {},
   "outputs": [],
   "source": [
    "#Importamos la base de datos\n",
    "properati = pd.read_csv(\"properati.csv\")"
   ]
  },
  {
   "cell_type": "code",
   "execution_count": 3,
   "metadata": {},
   "outputs": [],
   "source": [
    "#Como todas las filas en \"operation\" son ventas, \n",
    "#la columna no añade informacion, por lo que se remueve\n",
    "properati = properati.drop(columns=\"operation\")"
   ]
  },
  {
   "cell_type": "code",
   "execution_count": 4,
   "metadata": {},
   "outputs": [],
   "source": [
    "#Por ahora nos deshacemos de las columnas \"country_name\",\"geonames_id\",\"lat-lon\",\"lat\",\"lon\",\"place_with_parent_names\",\"place_name\",\"properati_url\",\"image_thumbnail\"\n",
    "properati = properati.drop(columns=[\"floor\",\"expenses\",\"country_name\",\"geonames_id\",\"lat-lon\",\"lat\",\"lon\",\"place_with_parent_names\",\"place_name\",\"properati_url\",\"image_thumbnail\"])"
   ]
  },
  {
   "cell_type": "code",
   "execution_count": 5,
   "metadata": {},
   "outputs": [
    {
     "data": {
      "text/plain": [
       "(53056, 14)"
      ]
     },
     "execution_count": 5,
     "metadata": {},
     "output_type": "execute_result"
    }
   ],
   "source": [
    "#Se le colocan estandares a las variables para lidiar con datos extremos\n",
    "properati = properati[properati.price_usd_per_m2 < 8000]\n",
    "\n",
    "properati = properati[properati.price_usd_per_m2 > 500]\n",
    "\n",
    "properati = properati[properati.surface_covered_in_m2 < 600]\n",
    "\n",
    "properati = properati[properati.surface_covered_in_m2 > 30]\n",
    "\n",
    "properati = properati[properati.surface_total_in_m2 > 30]\n",
    "\n",
    "properati = properati[properati.surface_total_in_m2 < 1000]\n",
    "\n",
    "properati.shape"
   ]
  },
  {
   "cell_type": "code",
   "execution_count": 6,
   "metadata": {},
   "outputs": [],
   "source": [
    "def cuenta_numeros(string,existe_amb):\n",
    "    \n",
    "    #Asigna numeros basados en texto encontrados en un string\n",
    "    #existe_amb se refiere al sitio donde se encontro una variante de la cadena de caracteres \"ambientes\"\n",
    "    #Directamente relacionada con la funcion cuenta_ambientes\n",
    "    \n",
    "    if string[existe_amb - 3:existe_amb + 1] == \" un \":\n",
    "        return 1\n",
    "    \n",
    "    if string[existe_amb - 4:existe_amb + 1] == \" dos \":\n",
    "        return 2\n",
    "    \n",
    "    if string[existe_amb - 5:existe_amb + 1] == \" tres \":\n",
    "        return 3\n",
    "    \n",
    "    if string[existe_amb - 7:existe_amb + 1] == \" cuatro \":\n",
    "        return 4\n",
    "    \n",
    "    if string[existe_amb - 6:existe_amb + 1] == \" cinco \":\n",
    "        return 5\n",
    "    \n",
    "    if string[existe_amb - 5:existe_amb + 1] == \" seis \":\n",
    "        return 6\n",
    "    \n",
    "    if string[existe_amb - 6:existe_amb + 1] == \" siete \":\n",
    "        return 7\n",
    "    \n",
    "    if string[existe_amb - 5:existe_amb + 1] == \" ocho \":\n",
    "        return 8\n",
    "    \n",
    "    "
   ]
  },
  {
   "cell_type": "code",
   "execution_count": 7,
   "metadata": {},
   "outputs": [],
   "source": [
    "def cuenta_ambientes(string):\n",
    "    #Programa para contar la cantidad de ambientes en title o descripcion, requiere de la funcion cuenta_numeros.\n",
    "    numero = 0 #Variable dummy, no es posible que un inmueble tenga cero ambientes.\n",
    "    string = string.lower() #Reducimos todos los caracteres a minuscula.\n",
    "    \n",
    "    existe_amb = string.find(\" amb \") #Se hace la primera busqueda, en caso de fallar, devuelve -1.\n",
    "    \n",
    "    if existe_amb == -1: #Las preguntas son para conocer si no se ha encontrado la palabra anterior.\n",
    "        existe_amb = string.find(\" amb.\")\n",
    "    \n",
    "    if existe_amb == -1:\n",
    "        existe_amb = string.find(\" ambientes\")\n",
    "    \n",
    "    if existe_amb == -1:\n",
    "        existe_amb = string.find(\" ambientes.\")\n",
    "        \n",
    "    if existe_amb == -1:\n",
    "        existe_amb = string.find(\" ambientes,\")\n",
    "        \n",
    "    if existe_amb == -1:\n",
    "        existe_amb = string.find(\" ambiente \")\n",
    "    \n",
    "    if existe_amb == -1:\n",
    "        existe_amb = string.find(\" ambiente.\")\n",
    "        \n",
    "    if existe_amb == -1:\n",
    "        existe_amb = string.find(\" dormitorios\") \n",
    "        \n",
    "    if existe_amb == -1:\n",
    "        if string.find(\" monoambiente\") != -1:\n",
    "            return 1\n",
    "        \n",
    "    if existe_amb == -1:\n",
    "        if string.find(\" monoambiente.\") != -1:\n",
    "            return 1\n",
    "        \n",
    "    if existe_amb == -1:\n",
    "        if string.find(\" monoambiente,\") != -1:\n",
    "            return 1\n",
    "    if existe_amb == -1:\n",
    "        if string.find(\" ambiente unico \") != -1:\n",
    "            return 1\n",
    "        \n",
    "    try: \n",
    "        numero = int(string[existe_amb - 2: existe_amb])\n",
    "    except:\n",
    "        try:\n",
    "            numero = int(string[existe_amb - 1: existe_amb])\n",
    "        except:\n",
    "            try:\n",
    "                numero = cuenta_numeros(string,existe_amb)\n",
    "                return numero\n",
    "            except:\n",
    "                existe_amb = -1\n",
    "                pass\n",
    "            pass\n",
    "        \n",
    "    \n",
    "    if existe_amb != -1 and numero != 0:\n",
    "        return abs(numero)\n",
    "    else:\n",
    "        return np.nan\n",
    "    \n",
    "    \n",
    "##IDEA: Usar un while y una lista para optimizar esta funcion."
   ]
  },
  {
   "cell_type": "code",
   "execution_count": 8,
   "metadata": {},
   "outputs": [
    {
     "name": "stdout",
     "output_type": "stream",
     "text": [
      "(14881, 1)\n",
      "(35500, 1)\n"
     ]
    }
   ],
   "source": [
    "prop_title = properati[[\"title\"]]\n",
    "prop_desc = properati[[\"description\"]]\n",
    "\n",
    "c = prop_title.applymap(cuenta_ambientes)\n",
    "d = prop_desc.applymap(cuenta_ambientes)\n",
    "\n",
    "print(c.dropna().shape)\n",
    "print(d.dropna().shape)\n"
   ]
  },
  {
   "cell_type": "code",
   "execution_count": 9,
   "metadata": {},
   "outputs": [],
   "source": [
    "#Rellenamos los datos que no se tenian, con los rooms encontrados.\n",
    "\n",
    "properati[\"rooms\"].fillna(c[\"title\"],inplace=True) \n",
    "properati[\"rooms\"].fillna(d[\"description\"],inplace=True)"
   ]
  },
  {
   "cell_type": "code",
   "execution_count": 10,
   "metadata": {},
   "outputs": [
    {
     "data": {
      "text/plain": [
       "Unnamed: 0                        0\n",
       "property_type                     0\n",
       "state_name                        0\n",
       "price                             0\n",
       "currency                          0\n",
       "price_aprox_local_currency        0\n",
       "price_aprox_usd                   0\n",
       "surface_total_in_m2               0\n",
       "surface_covered_in_m2             0\n",
       "price_usd_per_m2                  0\n",
       "price_per_m2                      0\n",
       "rooms                         10836\n",
       "description                       0\n",
       "title                             0\n",
       "dtype: int64"
      ]
     },
     "execution_count": 10,
     "metadata": {},
     "output_type": "execute_result"
    }
   ],
   "source": [
    "properati.isnull().sum()"
   ]
  },
  {
   "cell_type": "code",
   "execution_count": 11,
   "metadata": {},
   "outputs": [
    {
     "data": {
      "text/html": [
       "<div>\n",
       "<style scoped>\n",
       "    .dataframe tbody tr th:only-of-type {\n",
       "        vertical-align: middle;\n",
       "    }\n",
       "\n",
       "    .dataframe tbody tr th {\n",
       "        vertical-align: top;\n",
       "    }\n",
       "\n",
       "    .dataframe thead th {\n",
       "        text-align: right;\n",
       "    }\n",
       "</style>\n",
       "<table border=\"1\" class=\"dataframe\">\n",
       "  <thead>\n",
       "    <tr style=\"text-align: right;\">\n",
       "      <th></th>\n",
       "      <th>price</th>\n",
       "    </tr>\n",
       "    <tr>\n",
       "      <th>state_name</th>\n",
       "      <th></th>\n",
       "    </tr>\n",
       "  </thead>\n",
       "  <tbody>\n",
       "    <tr>\n",
       "      <th>Tierra Del Fuego</th>\n",
       "      <td>20</td>\n",
       "    </tr>\n",
       "    <tr>\n",
       "      <th>Chubut</th>\n",
       "      <td>28</td>\n",
       "    </tr>\n",
       "    <tr>\n",
       "      <th>Salta</th>\n",
       "      <td>30</td>\n",
       "    </tr>\n",
       "    <tr>\n",
       "      <th>Entre Ríos</th>\n",
       "      <td>44</td>\n",
       "    </tr>\n",
       "    <tr>\n",
       "      <th>San Luis</th>\n",
       "      <td>61</td>\n",
       "    </tr>\n",
       "    <tr>\n",
       "      <th>Misiones</th>\n",
       "      <td>64</td>\n",
       "    </tr>\n",
       "    <tr>\n",
       "      <th>Tucumán</th>\n",
       "      <td>80</td>\n",
       "    </tr>\n",
       "    <tr>\n",
       "      <th>Río Negro</th>\n",
       "      <td>87</td>\n",
       "    </tr>\n",
       "    <tr>\n",
       "      <th>Neuquén</th>\n",
       "      <td>182</td>\n",
       "    </tr>\n",
       "    <tr>\n",
       "      <th>Mendoza</th>\n",
       "      <td>253</td>\n",
       "    </tr>\n",
       "    <tr>\n",
       "      <th>Corrientes</th>\n",
       "      <td>274</td>\n",
       "    </tr>\n",
       "    <tr>\n",
       "      <th>Buenos Aires Interior</th>\n",
       "      <td>558</td>\n",
       "    </tr>\n",
       "    <tr>\n",
       "      <th>Santa Fe</th>\n",
       "      <td>2583</td>\n",
       "    </tr>\n",
       "    <tr>\n",
       "      <th>Córdoba</th>\n",
       "      <td>2614</td>\n",
       "    </tr>\n",
       "    <tr>\n",
       "      <th>Bs.As. G.B.A. Zona Oeste</th>\n",
       "      <td>3423</td>\n",
       "    </tr>\n",
       "    <tr>\n",
       "      <th>Buenos Aires Costa Atlántica</th>\n",
       "      <td>4015</td>\n",
       "    </tr>\n",
       "    <tr>\n",
       "      <th>Bs.As. G.B.A. Zona Sur</th>\n",
       "      <td>4839</td>\n",
       "    </tr>\n",
       "    <tr>\n",
       "      <th>Bs.As. G.B.A. Zona Norte</th>\n",
       "      <td>14516</td>\n",
       "    </tr>\n",
       "    <tr>\n",
       "      <th>Capital Federal</th>\n",
       "      <td>19348</td>\n",
       "    </tr>\n",
       "  </tbody>\n",
       "</table>\n",
       "</div>"
      ],
      "text/plain": [
       "                              price\n",
       "state_name                         \n",
       "Tierra Del Fuego                 20\n",
       "Chubut                           28\n",
       "Salta                            30\n",
       "Entre Ríos                       44\n",
       "San Luis                         61\n",
       "Misiones                         64\n",
       "Tucumán                          80\n",
       "Río Negro                        87\n",
       "Neuquén                         182\n",
       "Mendoza                         253\n",
       "Corrientes                      274\n",
       "Buenos Aires Interior           558\n",
       "Santa Fe                       2583\n",
       "Córdoba                        2614\n",
       "Bs.As. G.B.A. Zona Oeste       3423\n",
       "Buenos Aires Costa Atlántica   4015\n",
       "Bs.As. G.B.A. Zona Sur         4839\n",
       "Bs.As. G.B.A. Zona Norte      14516\n",
       "Capital Federal               19348"
      ]
     },
     "execution_count": 11,
     "metadata": {},
     "output_type": "execute_result"
    }
   ],
   "source": [
    "#Utilizamos una lista de los states que no deseamos que se encuentren en el dataframe.\n",
    "#Seleccionamos todos los demas.\n",
    "\n",
    "for i in ['Jujuy','Santiago Del Estero','San Juan','Catamarca','Santa Cruz',\"La Pampa\",\"Chaco\"]:\n",
    "    properati = properati[properati.state_name != i] #Es decir, los que no sean de allí.\n",
    "    \n",
    "properati[[\"state_name\",\"price\"]].groupby(\"state_name\").count().sort_values(\"price\")"
   ]
  },
  {
   "cell_type": "code",
   "execution_count": 12,
   "metadata": {},
   "outputs": [],
   "source": [
    "#Dummies de las columnas listas\n",
    "properati = pd.get_dummies(properati,[\"prop_type\",\"curr\",\"state\"],columns=[\"property_type\",\"currency\",\"state_name\"])\n"
   ]
  },
  {
   "cell_type": "code",
   "execution_count": 13,
   "metadata": {},
   "outputs": [
    {
     "data": {
      "text/plain": [
       "<matplotlib.axes._subplots.AxesSubplot at 0x7fcae8c8abe0>"
      ]
     },
     "execution_count": 13,
     "metadata": {},
     "output_type": "execute_result"
    },
    {
     "data": {
      "image/png": "[encoded data removed]",
      "text/plain": [
       "<Figure size 432x288 with 2 Axes>"
      ]
     },
     "metadata": {},
     "output_type": "display_data"
    }
   ],
   "source": [
    "sns.heatmap(properati.corr())"
   ]
  },
  {
   "cell_type": "code",
   "execution_count": 14,
   "metadata": {},
   "outputs": [],
   "source": [
    "properati.dropna().to_csv(\"properati_Tasado_Lineal.csv\", encoding='utf-8', index=False)"
   ]
  }
 ],
 "metadata": {
  "kernelspec": {
   "display_name": "Python 3",
   "language": "python",
   "name": "python3"
  },
  "language_info": {
   "codemirror_mode": {
    "name": "ipython",
    "version": 3
   },
   "file_extension": ".py",
   "mimetype": "text/x-python",
   "name": "python",
   "nbconvert_exporter": "python",
   "pygments_lexer": "ipython3",
   "version": "3.6.6"
  }
 },
 "nbformat": 4,
 "nbformat_minor": 2
}
