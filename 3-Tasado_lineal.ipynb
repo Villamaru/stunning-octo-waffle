{
 "cells": [
  {
   "cell_type": "markdown",
   "metadata": {},
   "source": [
    "## Objetivos 2:\n",
    "\n",
    "- Estimar un modelo de regresión lineal que realice predicciones para el precio por metro cuadrado.\n",
    "- Usar cross-validation para validar el modelo. Deberá prestar cierta atención a la estructura espacial de los precios.\n",
    "- Aplicar regularización a modelos lineales pueden hacerlo para obtener un puntaje adicional. La idea es la siguiente: estimar una regresión ridge y una LASSO sobre el dataset. Para ello deberán usar cross-validation para tunear el parámetro de regularización que maximiza R2 en tu test set. \n",
    "  - ¿Cómo son las performances entre los modelos regularizados y no regularizado? \n",
    "  - ¿Cuál funciona mejor? ¿Qué “hace” una regresión ridge? \n",
    "  - ¿Y una LASSO? \n",
    "  - ¿Qué diferencias hay con la regresión lineal sin regularizar?\n",
    "- Seleccionar mediante muestreo aleatorio simple una submuestra de 100 propiedades. Este será su portafolio de departamentos. En base al mejor modelo que haya encontrado determine cuáles de los departamentos, tanto en su portafolio como fuera de él, se encuentran sobrevaluados o subvaluados y en qué magnitud.\n",
    "- Teniendo en cuenta que podría comprar y vender propiedades al precio de mercado, omitamos costos de transacción, con un capital inicial igual al valor de mercado de las propiedades en su portafolio. ¿Cuál es el mejor portafolio de propiedades que podría comprar?\n",
    "  - Utilizar el modelo para ver cuales son las propiedades subvaluadas con respecto al precio tasado por el modelo, entendiendo que el modelo funciona correctamente.\n"
   ]
  },
  {
   "cell_type": "code",
   "execution_count": 1,
   "metadata": {},
   "outputs": [],
   "source": [
    "#Importamos paquetes necesarios.\n",
    "%matplotlib inline\n",
    "import numpy as np\n",
    "import pandas as pd\n",
    "from matplotlib import pyplot as plt\n",
    "#plt.rcParams['figure.figsize'] = 10, 10\n",
    "\n",
    "from sklearn import datasets, linear_model, metrics\n",
    "from sklearn.metrics import mean_squared_error, r2_score\n",
    "from sklearn.model_selection import train_test_split, KFold, cross_val_score\n",
    "from IPython.display import display\n",
    "from sklearn.linear_model import LinearRegression, Lasso, LassoCV, Ridge, RidgeCV\n",
    "from sklearn.preprocessing import PolynomialFeatures, StandardScaler"
   ]
  },
  {
   "cell_type": "code",
   "execution_count": 2,
   "metadata": {},
   "outputs": [],
   "source": [
    "#Importamos la base de datos.\n",
    "properati = pd.read_csv(\"properati_Tasado_Lineal.csv\")"
   ]
  },
  {
   "cell_type": "code",
   "execution_count": 3,
   "metadata": {},
   "outputs": [],
   "source": [
    "#Test de tasado lineal.\n",
    "properati.shape\n",
    "Target = properati[[\"price_per_m2\"]]\n",
    "Features = properati.drop(columns=[\"price_per_m2\",\"Unnamed: 0\",\"description\",\"title\"])"
   ]
  },
  {
   "cell_type": "code",
   "execution_count": 4,
   "metadata": {},
   "outputs": [],
   "source": [
    "# Generamos una función que resume los coeficientes, el intercepto y el R2.\n",
    "# \"model\" = objeto con el modelo.\n",
    "# \"X\" = matrix de variables independientes.\n",
    "\n",
    "def sum_mod(model, X):\n",
    "    a = pd.DataFrame(model.coef_ , X.columns.values)\n",
    "    a = a.append(pd.DataFrame([model.intercept_, model.score(X, y)], index=['Intecept','R2']))\n",
    "    return(a)\n"
   ]
  },
  {
   "cell_type": "code",
   "execution_count": 5,
   "metadata": {},
   "outputs": [
    {
     "data": {
      "image/png": "[encoded data removed]",
      "text/plain": [
       "<Figure size 432x288 with 1 Axes>"
      ]
     },
     "metadata": {},
     "output_type": "display_data"
    },
    {
     "name": "stdout",
     "output_type": "stream",
     "text": [
      "EMC: 10448033.952252245\n"
     ]
    }
   ],
   "source": [
    "lm = linear_model.LinearRegression()\n",
    "\n",
    "X = Features\n",
    "y = Target\n",
    "\n",
    "model = lm.fit(X, y)\n",
    "predictions = model.predict(X)\n",
    "\n",
    "# Graficamos el modelo.\n",
    "\n",
    "plt.scatter(predictions, y, s=30, c='r', marker='+', zorder=10)\n",
    "\n",
    "plt.xlabel(\"Predicciones de price_usd_per_m2 usando todas las features\")\n",
    "plt.ylabel(\"Valores reales price_usd_per_m2\")\n",
    "plt.plot(y,y, '-.',c='grey',zorder=11)\n",
    "plt.show()\n",
    "\n",
    "print (\"EMC:\", mean_squared_error(y, predictions))\n",
    "prevMSE = mean_squared_error(y, predictions)\n"
   ]
  },
  {
   "cell_type": "code",
   "execution_count": 6,
   "metadata": {},
   "outputs": [
    {
     "name": "stdout",
     "output_type": "stream",
     "text": [
      "Intercepto = [8120.25222768]\n",
      "RM =  [[ 6.62756387e-03  2.53347139e+04 -4.47018366e+05  8.51651022e+00\n",
      "  -1.10040785e+01  1.53023288e+00 -1.23726314e+02  2.82402156e+02\n",
      "  -2.57817858e+01 -2.48642362e+01 -2.31756065e+02  1.12232368e+04\n",
      "  -1.12232368e+04  3.01570765e+03  2.94125577e+03  2.79583779e+03\n",
      "   2.53634284e+03  2.27411036e+03  2.93170402e+03  1.69833933e+03\n",
      "   3.02812461e+03 -8.53867619e+02 -8.86871753e+02 -1.15564334e+03\n",
      "  -5.48676155e+03  3.82494443e+03  1.77238642e+03 -5.72673787e+03\n",
      "   2.98967432e+03  9.41091588e+02 -7.85381059e+03 -8.78582634e+03]]\n",
      "R2_train = 0.9155765788873326\n",
      "EMC: 10448033.952252245\n"
     ]
    }
   ],
   "source": [
    "print ('Intercepto =', model.intercept_)\n",
    "print ('RM = ', model.coef_)\n",
    "print ('R2_train =', model.score(X, y))\n",
    "print (\"EMC:\", mean_squared_error(y, predictions)) # error medio cuadrático\n",
    "# MSE y RMSE son más grandes que antes. A su vez, R2 empeora su performance.\n",
    "\n",
    "#print ('MSE:', metrics.mean_squared_error(true, pred))\n",
    "#print ('RMSE:', np.sqrt(metrics.mean_squared_error(true, pred)))\n",
    "#print ('R2:', metrics.r2_score(true, pred))"
   ]
  },
  {
   "cell_type": "code",
   "execution_count": 7,
   "metadata": {},
   "outputs": [
    {
     "data": {
      "text/plain": [
       "Index(['price', 'price_aprox_local_currency', 'price_aprox_usd',\n",
       "       'surface_total_in_m2', 'surface_covered_in_m2', 'price_usd_per_m2',\n",
       "       'rooms', 'prop_type_PH', 'prop_type_apartment', 'prop_type_house',\n",
       "       'prop_type_store', 'curr_ARS', 'curr_USD',\n",
       "       'state_Bs.As. G.B.A. Zona Norte', 'state_Bs.As. G.B.A. Zona Oeste',\n",
       "       'state_Bs.As. G.B.A. Zona Sur', 'state_Buenos Aires Costa Atlántica',\n",
       "       'state_Buenos Aires Interior', 'state_Capital Federal', 'state_Chubut',\n",
       "       'state_Corrientes', 'state_Córdoba', 'state_Entre Ríos',\n",
       "       'state_Mendoza', 'state_Misiones', 'state_Neuquén', 'state_Río Negro',\n",
       "       'state_Salta', 'state_San Luis', 'state_Santa Fe',\n",
       "       'state_Tierra Del Fuego', 'state_Tucumán'],\n",
       "      dtype='object')"
      ]
     },
     "execution_count": 7,
     "metadata": {},
     "output_type": "execute_result"
    }
   ],
   "source": [
    "Features.columns"
   ]
  },
  {
   "cell_type": "code",
   "execution_count": 8,
   "metadata": {},
   "outputs": [],
   "source": [
    "def train_test_rmse(feature_cols,total,df):\n",
    "    X = df[feature_cols]\n",
    "    y = df[total]\n",
    "    X_train, X_test, y_train, y_test = train_test_split(X, y, random_state=123)\n",
    "    linreg = LinearRegression()\n",
    "    linreg.fit(X_train, y_train)\n",
    "    y_pred = linreg.predict(X_test)\n",
    "    return np.sqrt(metrics.mean_squared_error(y_test, y_pred))"
   ]
  },
  {
   "cell_type": "code",
   "execution_count": 9,
   "metadata": {},
   "outputs": [],
   "source": [
    "#list(Features.columns)"
   ]
  },
  {
   "cell_type": "code",
   "execution_count": 10,
   "metadata": {},
   "outputs": [
    {
     "name": "stdout",
     "output_type": "stream",
     "text": [
      "3114.78063925406\n"
     ]
    }
   ],
   "source": [
    "# comparamos diferentes ensambles de features\n",
    "print (train_test_rmse(list(Features.columns),list(Target.columns),properati))\n"
   ]
  },
  {
   "cell_type": "code",
   "execution_count": 11,
   "metadata": {},
   "outputs": [
    {
     "name": "stdout",
     "output_type": "stream",
     "text": [
      "(29539, 32) (29539, 1)\n",
      "(12660, 32) (12660, 1)\n"
     ]
    }
   ],
   "source": [
    "X_train, X_test, y_train, y_test = train_test_split(X, y, test_size=0.30, random_state=53)\n",
    "print(X_train.shape, y_train.shape)\n",
    "print(X_test.shape, y_test.shape)"
   ]
  },
  {
   "cell_type": "code",
   "execution_count": 12,
   "metadata": {},
   "outputs": [],
   "source": [
    "al_ridge = np.linspace(0.001, 0.3, 300)\n",
    "al_lasso = np.linspace(0.1, 0.5, 300)\n",
    "kf = KFold(n_splits=5, shuffle=True, random_state=12)\n",
    "\n",
    "# Instanciamos los modelos\n",
    "\n",
    "lm = LinearRegression()\n",
    "lm_ridge_cv= RidgeCV(alphas=al_ridge, cv=kf, normalize=True)\n",
    "lm_lasso_cv = LassoCV(alphas=al_lasso, cv=kf, normalize=True)"
   ]
  },
  {
   "cell_type": "code",
   "execution_count": 13,
   "metadata": {},
   "outputs": [
    {
     "name": "stderr",
     "output_type": "stream",
     "text": [
      "/opt/conda/lib/python3.6/site-packages/sklearn/linear_model/coordinate_descent.py:1094: DataConversionWarning: A column-vector y was passed when a 1d array was expected. Please change the shape of y to (n_samples, ), for example using ravel().\n",
      "  y = column_or_1d(y, warn=True)\n"
     ]
    },
    {
     "data": {
      "text/plain": [
       "LassoCV(alphas=array([0.1    , 0.10134, ..., 0.49866, 0.5    ]), copy_X=True,\n",
       "    cv=KFold(n_splits=5, random_state=12, shuffle=True), eps=0.001,\n",
       "    fit_intercept=True, max_iter=1000, n_alphas=100, n_jobs=1,\n",
       "    normalize=True, positive=False, precompute='auto', random_state=None,\n",
       "    selection='cyclic', tol=0.0001, verbose=False)"
      ]
     },
     "execution_count": 13,
     "metadata": {},
     "output_type": "execute_result"
    }
   ],
   "source": [
    "lm.fit(X_train, y_train)\n",
    "lm_ridge_cv.fit(X_train, y_train)\n",
    "lm_lasso_cv.fit(X_train, y_train)"
   ]
  },
  {
   "cell_type": "code",
   "execution_count": 14,
   "metadata": {},
   "outputs": [
    {
     "name": "stdout",
     "output_type": "stream",
     "text": [
      "Alpha Ridge: 0.005 \n",
      "Alpha LASSO: 0.1 \n",
      "\n"
     ]
    }
   ],
   "source": [
    "print('Alpha Ridge:',lm_ridge_cv.alpha_,'\\n'\n",
    "      'Alpha LASSO:',lm_lasso_cv.alpha_,'\\n')"
   ]
  },
  {
   "cell_type": "code",
   "execution_count": 15,
   "metadata": {},
   "outputs": [
    {
     "name": "stdout",
     "output_type": "stream",
     "text": [
      " Score Train Lineal: 0.92\n",
      " Score Train Ridge : 0.92\n",
      " Score Train Lasso : 0.92\n",
      "\n",
      " Train RMSE lineal   : 3252.46 \n",
      " Train RMSE Ridge    : 3253.06 \n",
      " Train RMSE Lasso    : 3255.10 \n",
      "\n"
     ]
    }
   ],
   "source": [
    "# Calculamos el R2\n",
    "\n",
    "print(\" Score Train Lineal: %.2f\\n\" % lm.score(X_train, y_train),\n",
    "      \"Score Train Ridge : %.2f\\n\" % lm_ridge_cv.score(X_train, y_train),\n",
    "      \"Score Train Lasso : %.2f\\n\" %  lm_lasso_cv.score(X_train, y_train))\n",
    "\n",
    "# Calculamos el RMSE\n",
    "\n",
    "y_pred_tr_lm = lm.predict(X_train)\n",
    "y_pred_tr_ridge = lm_ridge_cv.predict(X_train)\n",
    "y_pred_tr_lasso = lm_lasso_cv.predict(X_train)\n",
    "\n",
    "rmse = lambda y, y_pred: np.sqrt(mean_squared_error(y, y_pred))\n",
    "\n",
    "print(\" Train RMSE lineal   : %.2f \\n\" % rmse(y_train,y_pred_tr_lm),\n",
    "      \"Train RMSE Ridge    : %.2f \\n\" % rmse(y_train,y_pred_tr_ridge),\n",
    "      \"Train RMSE Lasso    : %.2f \\n\" % rmse(y_train,y_pred_tr_lasso))"
   ]
  },
  {
   "cell_type": "code",
   "execution_count": 16,
   "metadata": {},
   "outputs": [
    {
     "data": {
      "text/plain": [
       "(array([8085.052]),\n",
       " array([[      0.007,   28836.019, -508797.148,       8.508,     -10.753,\n",
       "               1.525,    -168.085,     350.865,      -0.392,      18.256,\n",
       "            -368.729,   11346.158,  -11346.158,    3225.891,    3156.89 ,\n",
       "            2998.218,    2766.361,    2420.109,    3167.197,    1101.   ,\n",
       "            3188.367,    -711.073,   -1328.692,    -916.054,   -5906.327,\n",
       "            4590.122,    1860.427,   -3712.816,    2360.046,    1025.729,\n",
       "           -9981.046,   -9304.348]]))"
      ]
     },
     "execution_count": 16,
     "metadata": {},
     "output_type": "execute_result"
    }
   ],
   "source": [
    "np.set_printoptions(precision=3, suppress=True)\n",
    "\n",
    "(lm.intercept_, lm.coef_)"
   ]
  },
  {
   "cell_type": "code",
   "execution_count": 17,
   "metadata": {},
   "outputs": [
    {
     "data": {
      "text/plain": [
       "(array([10911.664]),\n",
       " array([[     0.007,     -0.   ,     -0.003,      8.042,    -10.487,\n",
       "              1.484,   -168.032,    297.77 ,    -43.028,    -33.923,\n",
       "           -405.618,  11287.52 , -11287.52 ,    457.583,    379.401,\n",
       "            218.677,     -0.833,   -348.795,    398.115,  -1670.123,\n",
       "            405.395,  -3454.148,  -4057.192,  -3686.195,  -8587.422,\n",
       "           1866.286,   -949.263,  -6432.87 ,   -417.528,  -1723.108,\n",
       "         -12677.9  , -11943.807]]))"
      ]
     },
     "execution_count": 17,
     "metadata": {},
     "output_type": "execute_result"
    }
   ],
   "source": [
    "(lm_ridge_cv.intercept_,lm_ridge_cv.coef_)"
   ]
  },
  {
   "cell_type": "code",
   "execution_count": 18,
   "metadata": {},
   "outputs": [
    {
     "data": {
      "text/plain": [
       "(-48.85260016230859,\n",
       " array([     0.007,     -0.   ,     -0.   ,      6.96 ,     -9.897,\n",
       "             1.417,   -159.247,    265.752,     -0.   ,     -0.   ,\n",
       "          -123.916,  22373.376,     -0.   ,    179.261,     62.175,\n",
       "            -0.   ,   -208.598,   -437.154,    130.028,  -1150.618,\n",
       "             0.   ,  -3591.298,  -3637.191,  -3629.983,  -8342.303,\n",
       "          1440.594,   -836.94 ,  -5861.389,   -183.256,  -1845.886,\n",
       "        -12123.349, -11720.925]))"
      ]
     },
     "execution_count": 18,
     "metadata": {},
     "output_type": "execute_result"
    }
   ],
   "source": [
    "(lm_lasso_cv.intercept_,lm_lasso_cv.coef_)"
   ]
  },
  {
   "cell_type": "code",
   "execution_count": 19,
   "metadata": {},
   "outputs": [
    {
     "data": {
      "text/plain": [
       "Index(['price', 'price_aprox_local_currency', 'price_aprox_usd',\n",
       "       'surface_total_in_m2', 'surface_covered_in_m2', 'price_usd_per_m2',\n",
       "       'rooms', 'prop_type_PH', 'prop_type_apartment', 'prop_type_house',\n",
       "       'prop_type_store', 'curr_ARS', 'curr_USD',\n",
       "       'state_Bs.As. G.B.A. Zona Norte', 'state_Bs.As. G.B.A. Zona Oeste',\n",
       "       'state_Bs.As. G.B.A. Zona Sur', 'state_Buenos Aires Costa Atlántica',\n",
       "       'state_Buenos Aires Interior', 'state_Capital Federal', 'state_Chubut',\n",
       "       'state_Corrientes', 'state_Córdoba', 'state_Entre Ríos',\n",
       "       'state_Mendoza', 'state_Misiones', 'state_Neuquén', 'state_Río Negro',\n",
       "       'state_Salta', 'state_San Luis', 'state_Santa Fe',\n",
       "       'state_Tierra Del Fuego', 'state_Tucumán'],\n",
       "      dtype='object')"
      ]
     },
     "execution_count": 19,
     "metadata": {},
     "output_type": "execute_result"
    }
   ],
   "source": [
    "Features.columns"
   ]
  },
  {
   "cell_type": "code",
   "execution_count": 20,
   "metadata": {},
   "outputs": [
    {
     "name": "stdout",
     "output_type": "stream",
     "text": [
      " Test RMSE lineal= 3190.90\n",
      " Test RMSE Ridge = 3191.36\n",
      " Test RMSE Lasso = 3188.75\n"
     ]
    }
   ],
   "source": [
    "# Hacemos las predicciones sobre la matriz de predictores del Test Set\n",
    "\n",
    "y_pred_lm = lm.predict(X_test)\n",
    "y_pred_ridge = lm_ridge_cv.predict(X_test)\n",
    "y_pred_lasso = lm_lasso_cv.predict(X_test)\n",
    "\n",
    "# Testeo final del modelo sobre Test Set\n",
    "\n",
    "print(\" Test RMSE lineal= %.2f\\n\" % rmse(y_test, y_pred_lm),\n",
    "      \"Test RMSE Ridge = %.2f\\n\" %  rmse(y_test, y_pred_ridge),\n",
    "      \"Test RMSE Lasso = %.2f\" %  rmse(y_test, y_pred_lasso))"
   ]
  },
  {
   "cell_type": "code",
   "execution_count": 22,
   "metadata": {},
   "outputs": [
    {
     "data": {
      "image/png": "[encoded data removed]",
      "text/plain": [
       "<Figure size 432x288 with 1 Axes>"
      ]
     },
     "metadata": {},
     "output_type": "display_data"
    },
    {
     "name": "stdout",
     "output_type": "stream",
     "text": [
      "EMC: 10168128.154387739\n"
     ]
    }
   ],
   "source": [
    "# Graficamos el modelo.\n",
    "\n",
    "plt.scatter(y_pred_lasso, y_test, s=30, c='r', marker='+', zorder=10)\n",
    "\n",
    "plt.xlabel(\"Predicciones de price_usd_per_m2 usando todas las features\")\n",
    "plt.ylabel(\"Valores reales price_usd_per_m2\")\n",
    "plt.plot(y_test,y_test, '-.',c='grey',zorder=11)\n",
    "plt.show()\n",
    "\n",
    "print (\"EMC:\", mean_squared_error(y_test, y_pred_lasso))\n",
    "prevMSE = mean_squared_error(y_test, y_pred_lasso)\n"
   ]
  },
  {
   "cell_type": "code",
   "execution_count": 23,
   "metadata": {},
   "outputs": [
    {
     "data": {
      "text/plain": [
       "10168128.154387739"
      ]
     },
     "execution_count": 23,
     "metadata": {},
     "output_type": "execute_result"
    }
   ],
   "source": [
    "prevMSE"
   ]
  }
 ],
 "metadata": {
  "kernelspec": {
   "display_name": "Python 3",
   "language": "python",
   "name": "python3"
  },
  "language_info": {
   "codemirror_mode": {
    "name": "ipython",
    "version": 3
   },
   "file_extension": ".py",
   "mimetype": "text/x-python",
   "name": "python",
   "nbconvert_exporter": "python",
   "pygments_lexer": "ipython3",
   "version": "3.6.6"
  }
 },
 "nbformat": 4,
 "nbformat_minor": 2
}
