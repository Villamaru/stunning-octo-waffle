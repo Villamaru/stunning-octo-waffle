{
 "cells": [
  {
   "cell_type": "markdown",
   "metadata": {},
   "source": [
    "## Objetivos 2:\n",
    "\n",
    "- Estimar un modelo de regresión lineal que realice predicciones para el precio por metro cuadrado.\n",
    "- Usar cross-validation para validar el modelo. Deberá prestar cierta atención a la estructura espacial de los precios.\n",
    "- Aplicar regularización a modelos lineales pueden hacerlo para obtener un puntaje adicional. La idea es la siguiente: estimar una regresión ridge y una LASSO sobre el dataset. Para ello deberán usar cross-validation para tunear el parámetro de regularización que maximiza R2 en tu test set. \n",
    "  - ¿Cómo son las performances entre los modelos regularizados y no regularizado? \n",
    "  - ¿Cuál funciona mejor? ¿Qué “hace” una regresión ridge? \n",
    "  - ¿Y una LASSO? \n",
    "  - ¿Qué diferencias hay con la regresión lineal sin regularizar?\n",
    "- Seleccionar mediante muestreo aleatorio simple una submuestra de 100 propiedades. Este será su portafolio de departamentos. En base al mejor modelo que haya encontrado determine cuáles de los departamentos, tanto en su portafolio como fuera de él, se encuentran sobrevaluados o subvaluados y en qué magnitud.\n",
    "- Teniendo en cuenta que podría comprar y vender propiedades al precio de mercado, omitamos costos de transacción, con un capital inicial igual al valor de mercado de las propiedades en su portafolio. ¿Cuál es el mejor portafolio de propiedades que podría comprar?\n",
    "  - Utilizar el modelo para ver cuales son las propiedades subvaluadas con respecto al precio tasado por el modelo, entendiendo que el modelo funciona correctamente.\n"
   ]
  },
  {
   "cell_type": "code",
   "execution_count": 1,
   "metadata": {},
   "outputs": [],
   "source": [
    "#Importamos paquetes necesarios.\n",
    "%matplotlib inline\n",
    "import numpy as np\n",
    "import pandas as pd\n",
    "from matplotlib import pyplot as plt\n",
    "\n",
    "from sklearn import datasets, linear_model\n",
    "from sklearn.metrics import mean_squared_error, r2_score\n",
    "from sklearn.model_selection import train_test_split\n",
    "from IPython.display import display"
   ]
  },
  {
   "cell_type": "code",
   "execution_count": 2,
   "metadata": {},
   "outputs": [],
   "source": [
    "#Importamos la base de datos.\n",
    "properati = pd.read_csv(\"properati_Tasado_Lineal.csv\")"
   ]
  },
  {
   "cell_type": "code",
   "execution_count": 3,
   "metadata": {},
   "outputs": [],
   "source": [
    "#Test de tasado lineal.\n",
    "properati.shape\n",
    "Target = properati[[\"price_usd_per_m2\"]]\n",
    "Features = properati.drop(columns=[\"price_usd_per_m2\",\"Unnamed: 0\",\"description\",\"title\"])"
   ]
  },
  {
   "cell_type": "code",
   "execution_count": 4,
   "metadata": {},
   "outputs": [],
   "source": [
    "# Generamos una función que resume los coeficientes, el intercepto y el R2.\n",
    "# \"model\" = objeto con el modelo.\n",
    "# \"X\" = matrix de variables independientes.\n",
    "\n",
    "def sum_mod(model, X):\n",
    "    a = pd.DataFrame(model.coef_ , X.columns.values)\n",
    "    a = a.append(pd.DataFrame([model.intercept_, model.score(X, y)], index=['Intecept','R2']))\n",
    "    return(a)"
   ]
  },
  {
   "cell_type": "code",
   "execution_count": 5,
   "metadata": {},
   "outputs": [
    {
     "data": {
      "image/png": "[encoded data removed]",
      "text/plain": [
       "<Figure size 432x288 with 1 Axes>"
      ]
     },
     "metadata": {},
     "output_type": "display_data"
    },
    {
     "name": "stdout",
     "output_type": "stream",
     "text": [
      "EMC: 273756.1594201429\n"
     ]
    }
   ],
   "source": [
    "lm = linear_model.LinearRegression()\n",
    "\n",
    "X = Features\n",
    "y = Target[[\"price_usd_per_m2\"]]\n",
    "\n",
    "model = lm.fit(X, y)\n",
    "predictions = model.predict(X)\n",
    "\n",
    "# Graficamos el modelo.\n",
    "plt.plot(y,y, '-.',c='grey')\n",
    "plt.scatter(predictions, y, s=30, c='r', marker='+', zorder=10)\n",
    "plt.xlabel(\"Predicciones de price_usd_per_m2 usando todas las features\")\n",
    "plt.ylabel(\"Valores reales price_usd_per_m2\")\n",
    "plt.show()\n",
    "print (\"EMC:\", mean_squared_error(y, predictions))\n",
    "prevMSE = mean_squared_error(y, predictions)\n"
   ]
  },
  {
   "cell_type": "code",
   "execution_count": 6,
   "metadata": {},
   "outputs": [
    {
     "name": "stdout",
     "output_type": "stream",
     "text": [
      "Intercepto = [1168.44734408]\n",
      "RM =  [[-1.66693373e-04 -1.97539602e+04  3.48548754e+05 -4.24164156e+00\n",
      "  -2.36979268e+00  4.00946898e-02 -3.74334915e+01 -2.84909810e+02\n",
      "   1.77712776e+02 -5.74402883e+01  1.64637334e+02 -6.73939675e+02\n",
      "   6.73939675e+02  7.27988055e+01 -1.56334158e+02 -1.28165026e+02\n",
      "  -6.94472413e+01 -1.27171042e+02  2.70046009e+02  8.39250889e+01\n",
      "  -7.72358436e+01 -1.12376365e+02 -1.42208550e+02  1.43700265e+01\n",
      "   1.18432170e+02  2.43467162e+02  2.27219411e+02  1.44186214e+02\n",
      "  -3.74278993e+02 -1.19777113e+02  2.35618334e+02 -1.03068953e+02]]\n",
      "R2_train = 0.7279687569160094\n"
     ]
    }
   ],
   "source": [
    "print ('Intercepto =', model.intercept_)\n",
    "print ('RM = ', model.coef_)\n",
    "print ('R2_train =', model.score(X, y))"
   ]
  },
  {
   "cell_type": "code",
   "execution_count": 7,
   "metadata": {},
   "outputs": [
    {
     "data": {
      "text/plain": [
       "Index(['price', 'price_aprox_local_currency', 'price_aprox_usd',\n",
       "       'surface_total_in_m2', 'surface_covered_in_m2', 'price_per_m2', 'rooms',\n",
       "       'prop_type_PH', 'prop_type_apartment', 'prop_type_house',\n",
       "       'prop_type_store', 'curr_ARS', 'curr_USD',\n",
       "       'state_Bs.As. G.B.A. Zona Norte', 'state_Bs.As. G.B.A. Zona Oeste',\n",
       "       'state_Bs.As. G.B.A. Zona Sur', 'state_Buenos Aires Costa Atlántica',\n",
       "       'state_Buenos Aires Interior', 'state_Capital Federal', 'state_Chubut',\n",
       "       'state_Corrientes', 'state_Córdoba', 'state_Entre Ríos',\n",
       "       'state_Mendoza', 'state_Misiones', 'state_Neuquén', 'state_Río Negro',\n",
       "       'state_Salta', 'state_San Luis', 'state_Santa Fe',\n",
       "       'state_Tierra Del Fuego', 'state_Tucumán'],\n",
       "      dtype='object')"
      ]
     },
     "execution_count": 7,
     "metadata": {},
     "output_type": "execute_result"
    }
   ],
   "source": [
    "Features.columns"
   ]
  },
  {
   "cell_type": "code",
   "execution_count": null,
   "metadata": {},
   "outputs": [],
   "source": []
  },
  {
   "cell_type": "code",
   "execution_count": null,
   "metadata": {},
   "outputs": [],
   "source": []
  }
 ],
 "metadata": {
  "kernelspec": {
   "display_name": "Python 3",
   "language": "python",
   "name": "python3"
  },
  "language_info": {
   "codemirror_mode": {
    "name": "ipython",
    "version": 3
   },
   "file_extension": ".py",
   "mimetype": "text/x-python",
   "name": "python",
   "nbconvert_exporter": "python",
   "pygments_lexer": "ipython3",
   "version": "3.6.6"
  }
 },
 "nbformat": 4,
 "nbformat_minor": 2
}
