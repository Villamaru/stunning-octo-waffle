{
 "cells": [
  {
   "cell_type": "markdown",
   "metadata": {},
   "source": [
    "## Objetivos 2:\n",
    "\n",
    "- Estimar un modelo de regresión lineal que realice predicciones para el precio por metro cuadrado.\n",
    "- Usar cross-validation para validar el modelo. Deberá prestar cierta atención a la estructura espacial de los precios.\n",
    "- Aplicar regularización a modelos lineales pueden hacerlo para obtener un puntaje adicional. La idea es la siguiente: estimar una regresión ridge y una LASSO sobre el dataset. Para ello deberán usar cross-validation para tunear el parámetro de regularización que maximiza R2 en tu test set. \n",
    "  - ¿Cómo son las performances entre los modelos regularizados y no regularizado? \n",
    "  - ¿Cuál funciona mejor? ¿Qué “hace” una regresión ridge? \n",
    "  - ¿Y una LASSO? \n",
    "  - ¿Qué diferencias hay con la regresión lineal sin regularizar?\n",
    "- Seleccionar mediante muestreo aleatorio simple una submuestra de 100 propiedades. Este será su portafolio de departamentos. En base al mejor modelo que haya encontrado determine cuáles de los departamentos, tanto en su portafolio como fuera de él, se encuentran sobrevaluados o subvaluados y en qué magnitud.\n",
    "- Teniendo en cuenta que podría comprar y vender propiedades al precio de mercado, omitamos costos de transacción, con un capital inicial igual al valor de mercado de las propiedades en su portafolio. ¿Cuál es el mejor portafolio de propiedades que podría comprar?\n",
    "  - Utilizar el modelo para ver cuales son las propiedades subvaluadas con respecto al precio tasado por el modelo, entendiendo que el modelo funciona correctamente.\n"
   ]
  },
  {
   "cell_type": "code",
   "execution_count": 1,
   "metadata": {},
   "outputs": [],
   "source": [
    "#Importamos paquetes necesarios.\n",
    "%matplotlib inline\n",
    "import numpy as np\n",
    "import pandas as pd\n",
    "from matplotlib import pyplot as plt\n",
    "#plt.rcParams['figure.figsize'] = 10, 10\n",
    "\n",
    "from sklearn import datasets, linear_model, metrics\n",
    "from sklearn.metrics import mean_squared_error, r2_score\n",
    "from sklearn.model_selection import train_test_split, KFold, cross_val_score\n",
    "from IPython.display import display\n",
    "from sklearn.linear_model import LinearRegression, Lasso, LassoCV, Ridge, RidgeCV\n",
    "from sklearn.preprocessing import PolynomialFeatures, StandardScaler"
   ]
  },
  {
   "cell_type": "code",
   "execution_count": 2,
   "metadata": {},
   "outputs": [],
   "source": [
    "#Importamos la base de datos.\n",
    "properati = pd.read_csv(\"properati_Tasado_Lineal.csv\")"
   ]
  },
  {
   "cell_type": "code",
   "execution_count": 3,
   "metadata": {},
   "outputs": [],
   "source": [
    "#Test de tasado lineal.\n",
    "properati.shape\n",
    "Target = properati[[\"price_usd_per_m2\"]]\n",
    "Features = properati.drop(columns=[\"price\",'price_usd_per_m2',\"price_per_m2\",\"Unnamed: 0\",\"description\",\"title\",'price_aprox_local_currency', 'price_aprox_usd'])"
   ]
  },
  {
   "cell_type": "code",
   "execution_count": 4,
   "metadata": {},
   "outputs": [],
   "source": [
    "# Generamos una función que resume los coeficientes, el intercepto y el R2.\n",
    "# \"model\" = objeto con el modelo.\n",
    "# \"X\" = matrix de variables independientes.\n",
    "\n",
    "def sum_mod(model, X):\n",
    "    a = pd.DataFrame(model.coef_ , X.columns.values)\n",
    "    a = a.append(pd.DataFrame([model.intercept_, model.score(X, y)], index=['Intecept','R2']))\n",
    "    return(a)\n"
   ]
  },
  {
   "cell_type": "code",
   "execution_count": 5,
   "metadata": {},
   "outputs": [
    {
     "data": {
      "image/png": "[encoded data removed]",
      "text/plain": [
       "<Figure size 432x288 with 1 Axes>"
      ]
     },
     "metadata": {},
     "output_type": "display_data"
    },
    {
     "name": "stdout",
     "output_type": "stream",
     "text": [
      "EMC: 389145.29885931016\n"
     ]
    }
   ],
   "source": [
    "lm = linear_model.LinearRegression()\n",
    "\n",
    "X = Features\n",
    "y = Target\n",
    "\n",
    "model = lm.fit(X, y)\n",
    "predictions = model.predict(X)\n",
    "\n",
    "# Graficamos el modelo.\n",
    "\n",
    "plt.scatter(predictions, y, s=30, c='r', marker='+', zorder=10)\n",
    "\n",
    "plt.xlabel(\"Predicciones de price_per_m2 usando todas las features\")\n",
    "plt.ylabel(\"Valores reales price_per_m2\")\n",
    "plt.plot(y,y, '-.',c='grey',zorder=11)\n",
    "plt.show()\n",
    "\n",
    "print (\"EMC:\", mean_squared_error(y, predictions))\n",
    "prevMSE = mean_squared_error(y, predictions)\n"
   ]
  },
  {
   "cell_type": "code",
   "execution_count": 6,
   "metadata": {},
   "outputs": [
    {
     "name": "stdout",
     "output_type": "stream",
     "text": [
      "Intercepto = [1.86266975e+11]\n",
      "RM =  [[-2.87672294e+00  3.16617601e+00 -1.51476668e+01  3.74918392e+11\n",
      "   3.74918393e+11  3.74918392e+11  3.74918392e+11 -6.20613389e+11\n",
      "  -6.20613389e+11  5.94280246e+10  5.94280249e+10  5.94280237e+10\n",
      "   5.94280241e+10  5.20230721e+10  5.94280241e+10  6.34834497e+10\n",
      "   5.94280251e+10  5.55897609e+10  5.94280242e+10  5.94280238e+10\n",
      "   4.73101050e+10  5.42065432e+10  4.67390963e+10  3.32806748e+10\n",
      "   5.94280253e+10  5.94280241e+10  5.36507974e+10  3.67456332e+10\n",
      "  -9.94612229e+02 -1.39582055e+03 -2.63999693e+02  3.15028939e+02\n",
      "  -1.15371707e+03 -4.90094849e+02  1.40148220e+02 -3.07013854e+02\n",
      "  -2.83901054e+02 -1.43025880e+03  5.07450951e+01 -1.87933673e+03\n",
      "  -1.90480904e+02 -8.01646917e+02 -2.54234886e+02 -1.71142960e+02\n",
      "  -3.23720522e+02  1.26197493e+02 -1.23642390e+03 -1.51518375e+03\n",
      "   1.12388547e+09 -7.98606308e+02 -9.54507788e+02  1.21179187e+10\n",
      "  -1.07504678e+03 -1.57944884e+03 -4.57745396e+02  7.40495220e+09\n",
      "   7.40495112e+09  1.53038658e+03  7.40495123e+09  7.40495148e+09\n",
      "  -5.75745235e+02 -1.95353058e+02 -6.36523682e+02 -4.78813409e+02\n",
      "  -6.48073540e+02 -7.03969145e+02 -3.24542735e+02 -9.11443809e+02\n",
      "  -2.26444410e+02 -2.49280548e+02 -4.73947157e+02 -7.27673388e+02\n",
      "  -5.28757531e+02  1.85471497e+01 -7.70121566e+02 -1.39276540e+03\n",
      "  -4.52809040e+02 -1.00369588e+03 -1.06959874e+03 -7.68674123e+02\n",
      "  -6.33824152e+08 -6.23375871e+08  2.19655767e+02 -1.43125347e+03\n",
      "  -1.22953833e+09 -1.66040604e+03 -1.31033025e+03 -7.78265358e+02\n",
      "  -8.77997367e+02 -9.87563340e+02 -1.13969718e+02 -1.25494464e+03\n",
      "  -3.83629488e+02 -1.83034800e+03 -1.21273970e+03 -7.51899952e+02\n",
      "  -1.01938071e+03  1.28858035e+02 -8.88392596e+02 -5.40014682e+02\n",
      "  -5.36531574e+02 -2.14391360e+02 -1.72998322e+02 -3.63768812e+02\n",
      "  -6.64512538e+02  5.90361328e+02 -8.46116051e+08 -2.05817881e+03\n",
      "   3.09215762e+02 -1.33952215e+03 -1.32398544e+03 -6.95469713e+01\n",
      "  -9.42015804e+02 -8.57781990e+02 -7.98277163e+02 -1.15537632e+03\n",
      "  -7.12941673e+02 -3.43997769e+02 -7.56831179e+02  2.44044444e+08\n",
      "  -1.04503328e+03 -4.13433718e+02 -8.29301414e+02  7.00598846e+02\n",
      "  -1.23403183e+03 -1.16322024e+03 -5.71591736e+02 -1.09855466e+03\n",
      "  -1.51492889e+02 -3.89830752e+08 -1.10439908e+03 -3.24973954e+02\n",
      "  -1.51625209e+03 -1.44079288e+03 -8.09504882e+02 -8.37267212e+02\n",
      "  -1.40027183e+03 -1.83527710e+02 -1.20307457e+03 -1.44616189e+08\n",
      "  -5.28142305e+02 -1.16849613e+03 -1.56903838e+03 -5.12786514e+02\n",
      "   2.26226153e+03 -1.20442705e+03  7.40495161e+09 -5.51051189e+02\n",
      "  -2.73461304e+01 -9.32150958e+02  3.05356718e+08  2.61473483e+10\n",
      "   7.40495148e+09 -9.54605425e+02 -7.83128815e+01  2.93359670e+03\n",
      "  -2.14807739e+02 -1.04177605e+03 -1.01451958e+03 -7.71587200e+01\n",
      "  -2.10818807e+03 -1.77966241e+03 -1.34035532e+03 -6.72176363e+02\n",
      "  -2.10776816e+02  5.22147985e+09 -6.71884251e+02 -2.94855337e+02\n",
      "   2.61473484e+10 -2.49377099e+02 -8.81622486e+02 -1.02439558e+03\n",
      "   7.40495131e+09 -4.62053312e+02  1.26889271e+10 -5.93184061e+01\n",
      "  -1.77290723e+03 -1.45743216e+03 -1.79000106e+03 -1.04972641e+03\n",
      "  -6.54391069e+02 -3.35957255e+02 -7.98604359e+02  1.14477217e+02\n",
      "   1.22156041e+02 -9.70360160e+02  3.83826195e+09 -7.76422611e+02\n",
      "  -4.05542622e+09 -1.16015354e+03 -9.56615822e+02  5.22148034e+09\n",
      "  -7.16789438e+02 -7.06212454e+02  7.40495192e+09  7.40495107e+09\n",
      "  -1.00719273e+03 -1.15655567e+03 -5.12734123e+02 -7.05981425e+02\n",
      "  -9.74914277e+02 -1.33645428e+03 -9.69827091e+07 -1.23185757e+03\n",
      "  -1.32881699e+03  6.32215786e+02  9.74289672e+01 -9.23516968e+02\n",
      "   7.79410685e+02 -4.92129434e+02 -4.05542578e+09  3.83826227e+09\n",
      "  -1.40560461e+03 -3.47794791e+02 -7.28947853e+02  1.26889284e+10\n",
      "  -6.56903655e+02 -1.13598494e+03 -5.07140158e+02 -1.55046850e+03\n",
      "  -1.28090814e+03 -8.97279194e+02 -7.96856607e+01 -6.17064536e+02\n",
      "  -1.31524102e+03 -6.81842547e+06 -6.07906094e+02 -1.48763623e+03\n",
      "  -1.62941682e+03 -1.63319385e+02  6.54184647e+01  9.53402779e+02\n",
      "  -1.17132467e+03 -5.62948215e+02 -1.76139190e+02  7.40495103e+09\n",
      "   3.07487745e+01 -4.05542564e+09 -1.04651665e+03 -1.03745730e+03\n",
      "   7.81424017e+01  5.50245325e+02  7.40495114e+09 -1.69651502e+02\n",
      "  -6.08018560e+02 -2.54489609e+03  1.44512742e+02  4.64264641e+01\n",
      "   2.23922578e+05 -1.15820307e+03 -1.11083339e+02 -4.31487976e+02\n",
      "  -5.98945169e+02 -6.14494597e+02 -9.97789858e+02 -1.23411254e+03\n",
      "  -4.19163945e+02 -1.20203758e+03 -1.33394000e+03  7.40495078e+09\n",
      "  -1.01415362e+03  4.71124619e+03  7.40495144e+09  1.26889271e+10\n",
      "  -1.42159069e+03 -1.32095000e+03 -6.57633859e+02  3.02985947e+02\n",
      "  -7.25392776e+02 -1.23852542e+03 -1.05853204e+03 -1.08017279e+03\n",
      "  -1.38308570e+03  7.71893660e+02 -1.80641717e+03 -2.80924770e+02\n",
      "  -3.79391155e+01 -6.45396404e+02 -1.46248517e+03 -1.36496014e+03\n",
      "  -1.32635177e+03 -1.22912663e+00 -1.14491927e+03 -1.33692217e+03\n",
      "  -1.30648704e+03 -9.97814960e+02 -8.23898991e+02  7.40495191e+09\n",
      "   3.83826176e+09 -9.03846989e+02 -1.71356473e+03 -4.06512780e+02\n",
      "  -1.45522068e+03 -7.45857795e+02 -1.77771283e+03 -1.01097264e+03\n",
      "  -1.52138516e+03 -2.83422695e+01 -1.57843521e+03 -1.53262200e+03\n",
      "  -1.66201960e+02 -1.44129623e+03 -1.43192341e+03 -2.25281749e+03\n",
      "   5.22148023e+09  1.83105469e-04 -1.21544440e+03  1.52587891e-05\n",
      "   1.14440918e-05  3.83826274e+09 -1.58796927e+03 -7.27737292e+02\n",
      "  -2.86102295e-06 -5.97713269e+02 -1.81578344e+03  2.25387192e+02\n",
      "  -1.31289097e+03 -1.59332498e+03 -1.10974529e+03 -1.67508515e+03\n",
      "  -2.23517418e-07 -1.33829294e+03 -5.85752607e+02 -3.63582020e+02\n",
      "  -1.78006694e+02 -1.32715408e+03 -2.01175515e+03 -5.44358045e-07\n",
      "  -8.07121862e+01 -6.76719748e+02 -5.21707748e+02 -5.20056100e+02\n",
      "  -5.16074083e+02 -2.34897016e-07  1.02275520e+03 -5.71610958e+02\n",
      "   2.93805869e+02  5.78881540e+02 -8.49471804e+02 -1.40861575e+03\n",
      "  -4.47966448e+02 -6.48095168e+02 -6.53651024e+02  7.40495153e+09\n",
      "   7.40495108e+09 -2.02399624e+03 -1.32743274e+03 -1.19189911e+02\n",
      "  -1.75845882e+03 -3.38750947e+02 -1.44806791e-07  7.40495162e+09\n",
      "   3.83826205e+09 -7.81089421e+02 -1.22059539e+03 -1.18812731e+03\n",
      "  -1.22738998e+03 -1.39170136e+03 -1.21526344e+03  3.83826260e+09\n",
      "  -1.24676808e+03 -1.30931183e+03 -4.55858753e-07 -2.30463324e+02\n",
      "  -7.80146985e+02  7.40495127e+09 -6.08565644e+02  3.83826218e+09\n",
      "   5.22148120e+09 -9.00650123e+02 -4.48684957e+02  9.56606812e-08\n",
      "  -1.17771872e+03 -1.23272309e+03 -2.09136610e+02 -1.43915970e+03\n",
      "  -9.80352297e-08 -1.20966267e+03 -1.38189174e+03 -5.08116411e+02\n",
      "  -1.17944857e+03 -3.66461361e+02 -6.33753052e+02 -1.24006147e+03\n",
      "  -1.88250081e+03 -7.57773346e+02 -9.79799996e+02 -1.88682740e+03\n",
      "  -1.13795818e+02 -9.97597276e+02 -5.75593086e+02 -1.39253322e+03\n",
      "  -6.76532759e+02 -1.25917875e+03 -1.65134931e+03  3.83826242e+09\n",
      "  -4.87237556e+02  7.40495093e+09 -1.88526438e+03 -2.76395996e+02\n",
      "  -8.06313401e+02 -1.08983703e+03 -8.61666294e-08 -4.29464289e+02\n",
      "  -4.12853605e+02 -8.46965117e+02  3.83826810e+09 -5.51693280e+02\n",
      "  -2.32785498e+02 -1.45345048e+03 -1.72295348e+03 -9.08627425e+02\n",
      "  -1.04039555e+03 -1.34085293e+03 -1.05774179e+03  5.22148120e+09\n",
      "   1.50749315e-08 -3.78498108e+02 -6.86382046e+02  6.01084464e+02\n",
      "   4.29090477e-07 -6.36435547e+01 -8.82169443e+02 -7.28881336e+02\n",
      "   7.40495101e+09 -4.12198915e-08 -6.64919511e+02 -1.72021674e+03\n",
      "  -9.47307668e+01  8.31220840e+02  1.90050689e+03  7.10079767e+02\n",
      "   7.39326295e+02  7.75673896e+02 -1.27111691e+03 -7.06859645e+02\n",
      "  -1.91141557e+02 -4.50049986e+02 -2.26998672e+02 -1.08474891e+03\n",
      "  -7.76929148e+02 -5.53256147e+02 -1.77237589e+03 -7.63813681e+02\n",
      "  -3.97125976e+02  7.40495081e+09  7.40495081e+09 -1.03291940e+03\n",
      "  -8.46497656e+00 -1.36360560e+03 -1.00273695e+03 -1.39598944e+03\n",
      "  -3.81376358e+02 -8.45490584e+02 -8.58026825e+02  3.66062403e+00\n",
      "   3.35958568e+02 -9.93431914e+02 -3.41826354e+02 -5.79670877e+02\n",
      "  -3.01286533e+02 -7.23891632e+02  5.22147934e+09 -9.01246454e+02\n",
      "   1.21179182e+10 -2.82953942e+03 -1.31700806e+03 -1.10355813e-09\n",
      "  -1.84502369e-09  3.28192590e+03  3.83826214e+09 -7.48860761e+02\n",
      "  -8.18634315e+02  6.35765218e-10  3.39442661e+01 -1.22973598e+02\n",
      "  -4.05542541e+09 -3.86973536e+02 -1.79451029e+03 -1.31057165e+03\n",
      "  -2.85209859e+02  8.51894440e+02 -6.19378553e+02  3.86360851e+02\n",
      "  -1.63684897e+03 -7.80188294e+02  6.23239405e+02 -1.27722280e+03\n",
      "  -7.90906570e+02 -7.74241159e+02  5.22147967e+09 -7.61170249e+02\n",
      "  -8.94477343e+02 -6.82673058e+02 -3.78674310e+02  3.83826216e+09\n",
      "   3.83826233e+09  5.77722581e+09  3.83826217e+09 -7.04848595e+01\n",
      "   2.61473483e+10 -2.22782941e+03 -1.36423044e+03  7.40495128e+09\n",
      "  -1.56871187e+03  7.40495149e+09  3.83826229e+09 -1.20835499e+03\n",
      "  -8.10979865e+02  1.26889284e+10 -1.09850026e+03 -1.59550236e+02\n",
      "  -4.35118877e+02 -8.89155724e+02 -1.97975711e+03 -3.77722748e+02\n",
      "   1.73502970e+03 -1.48350582e+03 -5.37056621e-10 -7.67717369e+02\n",
      "  -7.87128019e+02 -1.50564000e+03 -8.10398349e+02 -1.16728014e+03\n",
      "   2.81175789e+02 -1.44415701e+03  5.22148054e+09 -1.33124572e+03\n",
      "  -1.20271745e+03  2.26823895e+10  7.40495135e+09 -4.32900732e+02\n",
      "   7.40495105e+09 -7.25196037e+02 -6.91473063e+02 -9.69426193e+01\n",
      "  -1.27980219e+02  9.35448303e+01 -7.57228119e+02 -8.25955811e+02\n",
      "  -1.22793120e+03  3.83826240e+09 -1.09109313e+03 -1.14685144e+03\n",
      "  -7.96785216e+02 -1.47172507e+03 -1.74678605e+03 -5.69750088e+02\n",
      "  -8.67892558e+02  7.40495168e+09  3.61927500e+02 -9.23697673e+02\n",
      "  -1.61337395e+01 -1.14551997e+03 -2.13777763e+02 -1.51967516e+03\n",
      "  -4.83752236e+02 -8.03389675e+02  3.83826228e+09  7.40495152e+09\n",
      "   3.83826203e+09 -1.55342226e+03 -2.82945705e+02 -7.36706499e+02\n",
      "  -1.02409087e+03 -4.26406281e+02  5.77722548e+09 -7.14439926e+02\n",
      "  -2.54801544e+03 -4.97456047e+02 -3.24784473e+02 -1.27285829e+03\n",
      "   7.40495109e+09  7.40495091e+09 -1.72881155e+03 -4.05542670e+09\n",
      "  -3.97168612e+02 -5.19316872e+02 -1.41850643e+03  2.26823897e+10\n",
      "  -8.57171388e+02 -5.07242639e+02  3.83826215e+09  5.77722675e+09\n",
      "  -7.11065983e+02 -3.32291821e+02  1.92540028e-09  2.04333902e-10\n",
      "  -4.32584061e+02 -4.62388438e+02  2.53365662e-11 -6.46872469e+02\n",
      "   1.01908321e+02 -5.67432915e+02  1.26889277e+10 -1.14760079e+03\n",
      "   3.83826222e+09  3.83826247e+09 -1.70241739e+03 -1.21050593e+03\n",
      "  -9.74922327e+02 -4.38775602e+02 -1.48759059e+03  3.83826230e+09\n",
      "  -2.15820796e+03 -1.10657395e+03 -2.74873047e+01 -1.09809272e+02\n",
      "  -4.40915017e+02 -4.35781333e+02  7.78444964e+02  2.13253342e+02\n",
      "   3.83826234e+09 -4.40837481e+02 -8.30710691e+02 -1.38414829e+03\n",
      "   5.22148021e+09 -1.66015250e+03  1.26889290e+10 -9.81460495e+02\n",
      "  -3.54030467e+02 -1.54895590e+03 -1.59777979e+03 -1.86368720e+03\n",
      "  -1.57817603e+03 -1.11711865e+03  3.83826166e+09 -1.49081175e+03\n",
      "   4.96702701e+03 -1.01105353e+02 -1.41916481e+03 -7.06607507e+02\n",
      "   4.30702585e-10 -8.84808058e+02 -1.79031042e+02 -1.80549736e+03\n",
      "  -4.06202235e+02 -6.60999052e+02 -8.84609245e+02  3.83826240e+09\n",
      "   3.83826193e+09 -2.34134803e+02 -1.38800155e+03 -1.32356991e+03\n",
      "  -2.25045989e+03 -1.38476764e+03  4.56707077e+01 -8.00123725e+02\n",
      "  -1.17772240e+03 -1.29149834e+02 -1.10393036e+03 -3.24490657e-10\n",
      "  -1.67460915e+03 -1.57933817e+03 -4.60125848e+02  4.18545407e-15\n",
      "   2.26823908e+10 -1.27834874e+03  0.00000000e+00]]\n"
     ]
    },
    {
     "name": "stdout",
     "output_type": "stream",
     "text": [
      "R2_train = 0.6133066754983119\n",
      "EMC: 389145.29885931016\n"
     ]
    }
   ],
   "source": [
    "print ('Intercepto =', model.intercept_)\n",
    "print ('RM = ', model.coef_)\n",
    "print ('R2_train =', model.score(X, y))\n",
    "print (\"EMC:\", mean_squared_error(y, predictions)) # error medio cuadrático\n",
    "# MSE y RMSE son más grandes que antes. A su vez, R2 empeora su performance.\n",
    "\n",
    "#print ('MSE:', metrics.mean_squared_error(true, pred))\n",
    "#print ('RMSE:', np.sqrt(metrics.mean_squared_error(true, pred)))\n",
    "#print ('R2:', metrics.r2_score(true, pred))"
   ]
  },
  {
   "cell_type": "code",
   "execution_count": 7,
   "metadata": {},
   "outputs": [
    {
     "data": {
      "text/plain": [
       "Index(['surface_total_in_m2', 'surface_covered_in_m2', 'rooms', 'prop_type_PH',\n",
       "       'prop_type_apartment', 'prop_type_house', 'prop_type_store', 'curr_ARS',\n",
       "       'curr_USD', 'state_Bs.As. G.B.A. Zona Norte',\n",
       "       ...\n",
       "       'place_Villa del Parque', 'place_Village Golf & Tennis Country Club',\n",
       "       'place_Virasoro Village', 'place_Virrey del Pino', 'place_Virreyes',\n",
       "       'place_Wilde', 'place_William Morris', 'place_Yerba Buena',\n",
       "       'place_Zelaya', 'place_coordenadas 34.255511'],\n",
       "      dtype='object', length=659)"
      ]
     },
     "execution_count": 7,
     "metadata": {},
     "output_type": "execute_result"
    }
   ],
   "source": [
    "Features.columns"
   ]
  },
  {
   "cell_type": "code",
   "execution_count": 8,
   "metadata": {},
   "outputs": [],
   "source": [
    "def train_test_rmse(feature_cols,total,df):\n",
    "    X = df[feature_cols]\n",
    "    y = df[total]\n",
    "    X_train, X_test, y_train, y_test = train_test_split(X, y, random_state=123)\n",
    "    linreg = LinearRegression()\n",
    "    linreg.fit(X_train, y_train)\n",
    "    y_pred = linreg.predict(X_test)\n",
    "    return np.sqrt(metrics.mean_squared_error(y_test, y_pred))"
   ]
  },
  {
   "cell_type": "code",
   "execution_count": 9,
   "metadata": {},
   "outputs": [
    {
     "data": {
      "text/plain": [
       "['price_usd_per_m2']"
      ]
     },
     "execution_count": 9,
     "metadata": {},
     "output_type": "execute_result"
    }
   ],
   "source": [
    "#list(Features.columns)\n",
    "list(Target.columns)"
   ]
  },
  {
   "cell_type": "code",
   "execution_count": 10,
   "metadata": {},
   "outputs": [
    {
     "name": "stdout",
     "output_type": "stream",
     "text": [
      "2648834887.1030498\n"
     ]
    }
   ],
   "source": [
    "# comparamos diferentes ensambles de features\n",
    "print (train_test_rmse(list(Features.columns),list(Target.columns),properati))\n"
   ]
  },
  {
   "cell_type": "code",
   "execution_count": 11,
   "metadata": {},
   "outputs": [
    {
     "name": "stdout",
     "output_type": "stream",
     "text": [
      "(29539, 659) (29539, 1)\n",
      "(12660, 659) (12660, 1)\n"
     ]
    }
   ],
   "source": [
    "X_train, X_test, y_train, y_test = train_test_split(X, y, test_size=0.30, random_state=53)\n",
    "print(X_train.shape, y_train.shape)\n",
    "print(X_test.shape, y_test.shape)"
   ]
  },
  {
   "cell_type": "code",
   "execution_count": 12,
   "metadata": {},
   "outputs": [],
   "source": [
    "al_ridge = np.linspace(0.001, 0.3, 300)\n",
    "al_lasso = np.linspace(0.1, 0.5, 300)\n",
    "kf = KFold(n_splits=5, shuffle=True, random_state=12)\n",
    "\n",
    "# Instanciamos los modelos\n",
    "\n",
    "lm = LinearRegression()\n",
    "lm_ridge_cv= RidgeCV(alphas=al_ridge, cv=kf, normalize=True)\n",
    "lm_lasso_cv = LassoCV(alphas=al_lasso, cv=kf, normalize=True)"
   ]
  },
  {
   "cell_type": "code",
   "execution_count": 13,
   "metadata": {},
   "outputs": [
    {
     "name": "stderr",
     "output_type": "stream",
     "text": [
      "/opt/conda/lib/python3.6/site-packages/sklearn/linear_model/coordinate_descent.py:1094: DataConversionWarning: A column-vector y was passed when a 1d array was expected. Please change the shape of y to (n_samples, ), for example using ravel().\n",
      "  y = column_or_1d(y, warn=True)\n"
     ]
    },
    {
     "data": {
      "text/plain": [
       "LassoCV(alphas=array([0.1    , 0.10134, ..., 0.49866, 0.5    ]), copy_X=True,\n",
       "    cv=KFold(n_splits=5, random_state=12, shuffle=True), eps=0.001,\n",
       "    fit_intercept=True, max_iter=1000, n_alphas=100, n_jobs=1,\n",
       "    normalize=True, positive=False, precompute='auto', random_state=None,\n",
       "    selection='cyclic', tol=0.0001, verbose=False)"
      ]
     },
     "execution_count": 13,
     "metadata": {},
     "output_type": "execute_result"
    }
   ],
   "source": [
    "lm.fit(X_train, y_train)\n",
    "lm_ridge_cv.fit(X_train, y_train)\n",
    "lm_lasso_cv.fit(X_train, y_train)"
   ]
  },
  {
   "cell_type": "code",
   "execution_count": 14,
   "metadata": {},
   "outputs": [
    {
     "name": "stdout",
     "output_type": "stream",
     "text": [
      "Alpha Ridge: 0.009000000000000001 \n",
      "Alpha LASSO: 0.1 \n",
      "\n"
     ]
    }
   ],
   "source": [
    "print('Alpha Ridge:',lm_ridge_cv.alpha_,'\\n'\n",
    "      'Alpha LASSO:',lm_lasso_cv.alpha_,'\\n')"
   ]
  },
  {
   "cell_type": "code",
   "execution_count": 15,
   "metadata": {},
   "outputs": [
    {
     "data": {
      "text/plain": [
       "Index(['surface_total_in_m2', 'surface_covered_in_m2', 'rooms', 'prop_type_PH',\n",
       "       'prop_type_apartment', 'prop_type_house', 'prop_type_store', 'curr_ARS',\n",
       "       'curr_USD', 'state_Bs.As. G.B.A. Zona Norte',\n",
       "       ...\n",
       "       'place_Villa del Parque', 'place_Village Golf & Tennis Country Club',\n",
       "       'place_Virasoro Village', 'place_Virrey del Pino', 'place_Virreyes',\n",
       "       'place_Wilde', 'place_William Morris', 'place_Yerba Buena',\n",
       "       'place_Zelaya', 'place_coordenadas 34.255511'],\n",
       "      dtype='object', length=659)"
      ]
     },
     "execution_count": 15,
     "metadata": {},
     "output_type": "execute_result"
    }
   ],
   "source": [
    "X_train.columns"
   ]
  },
  {
   "cell_type": "code",
   "execution_count": 16,
   "metadata": {},
   "outputs": [
    {
     "name": "stdout",
     "output_type": "stream",
     "text": [
      " Score Train Lineal: 0.62\n",
      " Score Train Ridge : 0.62\n",
      " Score Train Lasso : 0.57\n",
      "\n",
      " Train RMSE lineal   : 621.10 \n",
      " Train RMSE Ridge    : 621.41 \n",
      " Train RMSE Lasso    : 656.06 \n",
      "\n"
     ]
    }
   ],
   "source": [
    "# Calculamos el R2\n",
    "\n",
    "print(\" Score Train Lineal: %.2f\\n\" % lm.score(X_train, y_train),\n",
    "      \"Score Train Ridge : %.2f\\n\" % lm_ridge_cv.score(X_train, y_train),\n",
    "      \"Score Train Lasso : %.2f\\n\" %  lm_lasso_cv.score(X_train, y_train))\n",
    "\n",
    "# Calculamos el RMSE\n",
    "\n",
    "y_pred_tr_lm = lm.predict(X_train)\n",
    "y_pred_tr_ridge = lm_ridge_cv.predict(X_train)\n",
    "y_pred_tr_lasso = lm_lasso_cv.predict(X_train)\n",
    "\n",
    "rmse = lambda y, y_pred: np.sqrt(mean_squared_error(y, y_pred))\n",
    "\n",
    "print(\" Train RMSE lineal   : %.2f \\n\" % rmse(y_train,y_pred_tr_lm),\n",
    "      \"Train RMSE Ridge    : %.2f \\n\" % rmse(y_train,y_pred_tr_ridge),\n",
    "      \"Train RMSE Lasso    : %.2f \\n\" % rmse(y_train,y_pred_tr_lasso))"
   ]
  },
  {
   "cell_type": "code",
   "execution_count": 17,
   "metadata": {},
   "outputs": [
    {
     "data": {
      "text/plain": [
       "(array([4.375e+12]),\n",
       " array([[-2.880e+00,  3.158e+00, -1.840e+01, -4.707e+12, -4.707e+12,\n",
       "         -4.707e+12, -4.707e+12,  2.085e+11,  2.085e+11,  1.240e+11,\n",
       "          1.240e+11,  1.240e+11,  1.240e+11,  1.154e+11,  1.240e+11,\n",
       "          9.977e+10,  1.240e+11,  1.279e+11,  1.240e+11,  1.089e+11,\n",
       "          3.087e+10,  1.043e+11,  1.061e+11,  8.412e+10,  1.240e+11,\n",
       "          1.146e+11,  1.062e+11,  7.699e+10, -1.178e+03, -1.704e+09,\n",
       "          1.063e+02, -2.665e+10, -1.054e+03, -4.324e+02,  4.378e+02,\n",
       "          5.286e+09,  7.343e+01, -9.411e+02,  1.833e+02, -2.062e+03,\n",
       "          2.617e+02, -4.884e+02,  1.186e+02,  7.063e+01, -2.672e+02,\n",
       "          4.398e+02, -1.194e+03, -1.429e+03,  3.672e+09, -6.875e+02,\n",
       "          9.331e+09,  9.308e+10,  9.331e+09, -1.399e+03, -1.165e+02,\n",
       "          8.587e+09,  8.587e+09,  6.227e+08,  8.587e+09,  8.587e+09,\n",
       "         -1.999e+02,  1.282e+02, -5.484e+02, -9.264e+01, -5.430e+02,\n",
       "         -4.751e+02, -2.386e+02, -6.012e+02, -5.764e+02, -7.983e+00,\n",
       "         -1.639e+02, -6.805e+02, -4.380e+02,  1.065e+02, -6.839e+02,\n",
       "         -1.286e+03, -3.650e+02, -9.181e+02, -1.134e+03, -6.830e+02,\n",
       "         -2.004e+08,  9.676e+08,  4.006e+02, -1.190e+03, -9.843e+08,\n",
       "         -1.572e+03, -1.221e+03,  1.120e+09, -7.865e+02, -9.235e+02,\n",
       "         -6.318e+08, -1.143e+03, -1.578e+02, -2.063e+03,  2.570e+08,\n",
       "         -5.941e+02, -7.691e+02,  1.159e+03, -5.761e+02, -3.143e+02,\n",
       "         -4.136e+02, -8.918e+01, -1.424e+02, -2.806e+02, -3.326e+02,\n",
       "          9.378e+02,  1.200e+08, -2.026e+03,  1.299e+02, -1.253e+03,\n",
       "         -1.338e+03,  2.705e+02, -8.738e+02, -7.849e+02, -4.874e+02,\n",
       "         -1.167e+03, -6.258e+02, -2.471e+02, -6.176e+02,  2.910e+08,\n",
       "         -1.221e+03, -3.465e+02, -6.902e+02,  1.108e+03, -1.131e+03,\n",
       "         -1.024e+03, -5.231e+02, -9.940e+02,  2.276e+02, -4.866e+08,\n",
       "         -1.021e+03, -1.139e+01,  3.793e+08, -1.411e+03, -7.167e+02,\n",
       "         -4.576e+02, -1.310e+03,  2.007e+02, -1.097e+03, -4.276e+08,\n",
       "         -2.810e+08, -1.137e+03, -1.737e+03, -2.332e+02,  1.506e+10,\n",
       "         -8.559e+02,  8.587e+09, -2.358e+02,  3.323e+02, -5.404e+02,\n",
       "          1.946e+08,  3.984e+10,  4.088e+08, -1.135e+03,  2.494e+02,\n",
       "          1.506e+10,  1.265e+02,  9.331e+09, -9.525e+02,  2.466e+02,\n",
       "         -2.373e+03, -1.968e+03, -1.512e+03,  4.809e+08,  1.945e+02,\n",
       "          1.969e+10, -3.939e+02,  1.123e+02,  3.984e+10,  5.679e+01,\n",
       "         -2.770e+08,  4.347e+08,  8.587e+09, -1.667e+02,  1.790e+10,\n",
       "          1.419e+02, -1.945e+03, -1.627e+03, -1.989e+03, -4.250e+02,\n",
       "         -3.190e+02, -6.427e+00,  4.667e+07,  4.668e+02,  4.640e+02,\n",
       "         -6.631e+02, -3.949e+09, -8.277e+02,  2.418e+10,  8.239e+07,\n",
       "         -1.093e+03,  1.969e+10, -3.778e+02, -3.285e+02,  8.587e+09,\n",
       "          8.587e+09, -1.159e+03, -9.823e+02, -2.671e+02, -3.402e+02,\n",
       "         -1.155e+03, -1.253e+03,  1.471e+06, -1.139e+03, -1.238e+03,\n",
       "          8.934e+02,  4.382e+02, -8.021e+02,  5.971e+02, -1.651e+02,\n",
       "          2.266e+05, -3.949e+09, -1.404e+03, -2.512e+02, -6.384e+02,\n",
       "          1.790e+10, -5.702e+02, -8.872e+03, -3.066e+02, -1.221e+03,\n",
       "         -1.171e+03, -5.783e+02,  2.584e+02, -5.519e+02, -1.233e+03,\n",
       "         -1.572e+03, -4.648e+02, -1.582e+03, -1.791e+03,  1.686e+02,\n",
       "          3.261e+02,  1.506e+10, -1.242e+03, -4.396e+02, -9.056e+01,\n",
       "          8.587e+09,  2.322e+02,  2.418e+10, -9.689e+02, -9.004e+02,\n",
       "          3.318e+02,  8.884e+02,  8.587e+09,  1.552e+02, -2.330e+02,\n",
       "         -2.234e+03,  4.718e+02,  3.964e+02, -6.284e-02, -9.861e+02,\n",
       "          4.574e+02, -5.364e+01, -2.454e+02, -5.357e+02, -8.351e+02,\n",
       "         -1.522e+03,  9.331e+09, -1.166e+03, -1.331e+03,  8.587e+09,\n",
       "         -8.514e+02,  2.441e-04,  8.587e+09,  1.790e+10, -1.536e+03,\n",
       "         -1.232e+03, -3.201e+02,  4.863e+02,  1.506e+10, -3.815e-05,\n",
       "         -2.289e-05,  9.331e+09, -1.199e+03,  6.702e+02, -1.922e+03,\n",
       "          1.168e+02,  2.690e+02, -4.643e+02, -1.646e+03, -1.704e+03,\n",
       "         -1.465e+03,  2.980e-08, -1.048e+03, -1.328e+03, -1.220e+03,\n",
       "         -9.477e+02,  1.770e-08,  8.587e+09, -3.949e+09, -6.880e+02,\n",
       "         -1.866e+03,  9.331e+09, -1.371e+03, -4.168e+02, -1.698e+03,\n",
       "          9.331e+09, -1.726e+03,  2.619e+02, -1.746e+03, -1.407e+03,\n",
       "          1.734e+02, -1.221e+03, -2.725e+03, -2.596e+03,  1.969e+10,\n",
       "         -4.295e-08, -4.452e-08, -4.353e-08,  4.015e-08, -3.949e+09,\n",
       "         -1.762e+03, -6.336e+02, -7.345e-09, -5.109e+02, -1.721e+03,\n",
       "          3.759e+02, -1.084e+03, -1.437e+03,  1.138e-08, -1.886e+03,\n",
       "          4.079e-08, -1.254e+03, -2.497e+02, -1.630e+01,  5.127e-09,\n",
       "         -1.513e+03, -2.165e+03,  3.184e-09,  2.372e+02, -5.808e+02,\n",
       "         -1.844e+02, -2.056e+02, -1.627e+02,  5.285e-09,  1.344e+03,\n",
       "          5.108e-09,  7.819e+02,  1.506e+10,  9.331e+09, -1.102e+03,\n",
       "         -6.670e+01, -3.125e+02, -3.260e+02,  8.587e+09,  8.587e+09,\n",
       "         -2.242e+03, -1.231e+03,  2.387e+02, -1.868e+03, -7.151e+01,\n",
       "          3.877e-08,  1.555e-08, -1.116e-08, -7.093e+02, -1.134e+03,\n",
       "          9.331e+09, -1.400e+03, -1.083e+03, -1.120e+03, -3.949e+09,\n",
       "         -1.341e+03, -1.216e+03,  4.549e-08,  5.066e+01, -4.472e+02,\n",
       "          8.587e+09,  1.506e+10, -3.949e+09,  1.969e+10, -4.663e+02,\n",
       "          1.506e+10,  1.113e-08, -1.082e+03, -1.147e+03,  1.436e+02,\n",
       "         -1.477e+03, -2.545e-08, -9.542e+02, -1.300e+03, -1.727e+02,\n",
       "         -8.291e+02, -1.813e+02, -3.213e+02, -9.297e+02, -2.064e+03,\n",
       "         -7.230e+02, -8.283e+02, -2.084e+03,  1.383e+01, -8.779e+02,\n",
       "         -1.758e+02,  2.446e-10, -5.416e+02, -1.289e+03, -1.554e+03,\n",
       "          1.370e-11,  1.506e+10,  8.587e+09, -2.172e+03,  5.151e-10,\n",
       "         -6.186e+02, -7.176e+02,  8.333e-10, -5.148e+01, -2.355e-01,\n",
       "         -6.104e+02, -3.949e+09, -2.185e+02,  1.026e+02, -1.648e+03,\n",
       "         -1.886e+03, -4.453e+02, -8.948e+02, -1.227e+03, -7.427e+02,\n",
       "          1.969e+10, -4.407e-10, -2.709e+02, -4.783e+02,  9.949e+02,\n",
       "         -3.900e-10,  2.575e+01, -8.864e+02, -3.938e+02,  8.587e+09,\n",
       "          5.116e-10, -3.516e+02, -1.899e+03, -1.286e+02,  1.191e+03,\n",
       "          2.341e+03,  1.075e+03,  1.191e+03,  1.066e+03, -1.356e+03,\n",
       "         -3.033e+02,  1.496e+02, -1.114e+02,  1.250e+02, -1.463e+03,\n",
       "         -4.792e+02, -2.001e+02, -1.742e-11, -4.946e+02, -4.763e+01,\n",
       "          1.307e-09,  8.587e+09, -9.288e+02,  7.946e+01, -1.045e+03,\n",
       "         -9.416e+02, -1.263e+03, -1.015e+02, -5.293e+02, -7.272e+02,\n",
       "          3.134e+02,  5.609e+02,  7.186e-10,  1.442e+02, -2.730e+02,\n",
       "          3.118e+00, -4.416e+02,  1.969e+10, -4.521e+02,  9.308e+10,\n",
       "         -3.080e+03, -1.504e+03, -1.324e-09, -1.025e-09,  3.588e+03,\n",
       "         -3.949e+09, -2.834e+02, -7.469e+02,  1.582e-10,  1.596e+02,\n",
       "          1.986e+02,  2.418e+10, -5.351e+01, -1.972e+03, -1.480e+03,\n",
       "          4.754e+01,  1.199e+03, -2.561e+02,  8.049e+02, -1.553e+03,\n",
       "          4.483e-10,  7.114e+02, -2.323e-10, -7.092e+02, -1.182e-11,\n",
       "          1.969e+10,  1.318e-09,  9.331e+09,  9.331e+09,  6.229e+01,\n",
       "         -3.949e+09, -3.949e+09,  1.780e+10, -3.949e+09,  2.903e+02,\n",
       "          3.984e+10, -2.424e+03, -1.237e+03,  8.587e+09, -1.789e+03,\n",
       "          2.871e-10, -3.949e+09, -8.872e+02, -4.707e+02,  1.790e+10,\n",
       "         -7.610e+02,  2.968e+02, -9.541e+01, -8.087e+02, -1.889e+03,\n",
       "         -2.575e+02,  6.353e-10,  9.331e+09,  2.286e-10, -4.387e+02,\n",
       "         -6.078e+02, -1.679e+03,  9.331e+09, -1.081e+03,  8.172e+01,\n",
       "         -1.338e+03,  1.969e+10, -1.245e+03, -1.269e+03,  4.696e+10,\n",
       "          8.587e+09, -1.141e+02,  8.587e+09,  1.506e+10,  1.506e+10,\n",
       "          2.653e+02,  2.665e+02,  1.792e+02, -4.951e+02,  9.331e+09,\n",
       "         -1.136e+03, -3.949e+09, -1.055e+03, -7.834e+02, -7.222e+02,\n",
       "          9.331e+09, -1.891e+03, -1.478e+02, -8.138e+02,  8.587e+09,\n",
       "          6.980e+02, -8.470e+02,  3.127e+02, -8.226e-10,  1.680e+02,\n",
       "         -1.683e+03, -4.786e+02, -7.201e+02, -3.949e+09,  8.587e+09,\n",
       "          1.953e-10, -1.731e+03,  2.474e+01,  6.385e-10, -4.358e+02,\n",
       "         -8.084e+01,  1.780e+10, -6.403e+02,  1.510e-10, -1.581e+02,\n",
       "         -1.165e+02, -1.323e+03,  8.587e+09,  8.587e+09, -1.976e+03,\n",
       "          4.135e-10, -4.474e+01, -1.869e+02, -1.256e+03,  4.696e+10,\n",
       "          2.340e-10, -7.431e+01, -3.949e+09,  1.780e+10, -3.531e+02,\n",
       "         -6.986e+01, -5.903e-10,  2.210e-12, -1.025e+02, -1.497e+02,\n",
       "         -1.778e-10,  2.866e-10,  1.786e+02, -4.988e+02,  1.790e+10,\n",
       "         -1.042e+03, -3.949e+09, -3.949e+09, -1.948e+03, -1.102e+03,\n",
       "         -8.640e+02, -1.393e+03, -1.681e+03, -3.949e+09, -2.328e+03,\n",
       "          9.331e+09,  3.368e+02,  2.213e+02,  8.840e+01, -9.109e+01,\n",
       "          1.114e+03,  5.525e+02, -3.949e+09, -7.881e+01, -5.176e+02,\n",
       "         -1.293e+03,  1.969e+10, -1.420e+03,  1.790e+10, -5.999e+02,\n",
       "          1.035e+01, -1.713e+03, -1.503e+03, -2.039e+03, -1.490e+03,\n",
       "         -1.106e+03, -3.949e+09, -1.247e+03,  1.506e+10,  2.919e+02,\n",
       "         -1.334e+03,  0.000e+00,  0.000e+00, -5.736e+02,  2.137e+02,\n",
       "         -2.005e+03, -7.819e+00, -1.550e+02, -8.511e+02, -3.949e+09,\n",
       "         -3.949e+09,  6.564e+01, -1.641e+03, -8.189e+02, -2.431e+03,\n",
       "         -1.513e+03,  4.225e+02, -4.678e+02, -1.043e+03,  2.663e+02,\n",
       "         -1.018e+03,  0.000e+00, -1.861e+03, -1.496e+03, -1.573e+02,\n",
       "          0.000e+00,  4.696e+10, -1.186e+03,  0.000e+00]]))"
      ]
     },
     "execution_count": 17,
     "metadata": {},
     "output_type": "execute_result"
    }
   ],
   "source": [
    "np.set_printoptions(precision=3, suppress=True)\n",
    "\n",
    "(lm.intercept_, lm.coef_)"
   ]
  },
  {
   "cell_type": "code",
   "execution_count": 18,
   "metadata": {},
   "outputs": [
    {
     "data": {
      "text/plain": [
       "(array([1967.429]),\n",
       " array([[   -2.696,     2.889,   -17.01 ,  -273.353,   308.838,  -271.504,\n",
       "           -90.386,   -54.865,    54.865,    48.093,  -196.853,  -217.322,\n",
       "           -61.163,  -271.227,   215.895,   -12.693,   -64.024,  -336.759,\n",
       "          -337.038,  -227.829,  -361.764,    83.074,   329.448,  -382.603,\n",
       "           236.467,  -258.596,  -348.685,  -466.137,  -601.046,     0.   ,\n",
       "          -254.908,     0.   ,  -480.831,   129.894,   199.866,     0.   ,\n",
       "          -288.878,  -959.419,   748.008,  -612.616,    -4.669,  -501.646,\n",
       "          -242.942,  -167.077,   307.219,   185.394,  -616.897,  -852.093,\n",
       "             0.   ,  -108.457,  -526.934,    91.366,  -605.845,  -821.835,\n",
       "          -353.329,   677.332,  -398.82 ,     0.   ,  -284.514,   -30.196,\n",
       "          -557.807,  -107.288,    17.153,  -452.045,    28.071,    88.235,\n",
       "           324.792,  -621.351,    -3.894,   558.96 ,  -179.347,  -115.058,\n",
       "           127.296,   553.635,  -106.7  ,  -713.25 ,   196.651,  -343.235,\n",
       "          -553.751,  -120.978,     0.   ,     0.   ,   176.281,  -620.205,\n",
       "             0.   ,  -973.811,  -638.998,     0.   ,  -252.015,  -350.969,\n",
       "             0.   ,  -568.35 ,   399.429,  -602.601,     0.   ,   -27.946,\n",
       "          -199.518,  1749.722,  -589.043,   250.228,   149.017,   482.349,\n",
       "           422.924,   284.216,  -547.936,   571.589,     0.   , -1448.926,\n",
       "          1525.918,  -693.457,  -750.067,    28.417,  -314.248,  -220.343,\n",
       "          -503.373,  -587.557,   -55.406,   274.738,   -45.979,     0.   ,\n",
       "           231.549,   214.451,  -126.782,   738.973,  -545.808,  -460.158,\n",
       "            -9.446,  -421.943,   -13.609,     0.   ,  -447.352,  -246.375,\n",
       "             0.   ,  -837.527,  -137.791,  -814.188,  -731.176,  -162.933,\n",
       "          -528.846,     0.   ,     0.   ,  -565.55 ,  -281.468,  -470.164,\n",
       "          2397.946,  -870.346,    17.607,  -474.475,   -31.032,  -547.242,\n",
       "             0.   ,  -368.12 ,     0.   ,   312.784,     7.209,  3080.742,\n",
       "          -248.608,  -591.176,  -389.907,   223.457,  -883.84 ,  -519.111,\n",
       "           -59.488,     0.   ,   -62.433, -1358.032,  -406.836,  -248.434,\n",
       "          -232.121,  -305.071,     0.   ,     0.   ,  -182.324,  -179.09 ,\n",
       "          -980.887,   -95.028,  -503.713,  -183.972,  -534.143,  -461.264,\n",
       "          -576.791,  -245.175,     0.   ,   101.661,    99.51 ,  -675.064,\n",
       "          -675.571,    29.622,  -523.758,     0.   ,  -234.533,  -333.024,\n",
       "          -734.276,  -623.902,   411.914,  -329.797,   270.334,  -993.666,\n",
       "          -280.285,  -354.545,   288.126,  -699.912,     0.   ,  -533.06 ,\n",
       "          -660.949,   640.485,   211.411,  -217.419,  1954.777,  -402.653,\n",
       "             0.   ,  -333.686,  -830.76 ,   312.552,   -71.791,   472.18 ,\n",
       "             9.628,     0.   ,  -484.09 , -1444.933,  -601.922,  -618.488,\n",
       "            21.346,   915.594,  -678.065,     0.   ,   106.246,  -129.993,\n",
       "          -342.345,   -68.328,    96.223,  1123.843,  -663.022,   149.127,\n",
       "           476.045,  -294.475,   790.435,   102.698,  -396.854,  -326.47 ,\n",
       "            96.283,   593.85 ,  -343.175,   -83.608,  -471.82 , -2115.81 ,\n",
       "           230.168,   153.234,     0.   ,  -410.39 ,   216.395,  -413.245,\n",
       "          -604.826,    27.05 ,  -273.402,   -62.948,    65.585,  -576.634,\n",
       "          -758.668,  -707.756,  -280.071,     0.   ,   -15.433,  -672.248,\n",
       "           -74.247,  -661.247,  -556.425,   210.298,  -368.766,     0.   ,\n",
       "             0.   ,  -611.212,  -628.96 ,   432.122,  -462.966,  -119.301,\n",
       "           251.471,    90.524,  -200.465,  -248.641,   -18.931,     0.   ,\n",
       "          -473.514,  -751.617,  -637.388,  -373.158,     0.   ,   400.903,\n",
       "          -825.905,  -111.372,  -414.542,    34.085,  -792.216,  -664.398,\n",
       "         -1117.29 ,  -530.766,  -283.878,   819.174,  -306.074,  -835.768,\n",
       "           -64.98 ,  -649.428, -1278.509, -1113.14 ,  -394.243,     0.   ,\n",
       "             0.   ,     0.   ,     0.   ,  -671.747,  -297.335,   -68.335,\n",
       "             0.   ,    68.379, -1147.744,   935.161, -1096.128,  -869.02 ,\n",
       "             0.   ,  -433.194,     0.   ,  -668.391,  -262.818,  -251.981,\n",
       "             0.   ,   -67.178,  -717.551,     0.   ,    -2.349,     0.197,\n",
       "          -421.063,  -446.394,  -398.97 ,     0.   ,   972.827,     0.   ,\n",
       "           537.544,  -676.658,  -402.895, -1106.036,  -428.067,  -572.278,\n",
       "          -556.689,    19.365,  -403.84 ,  -792.435,  -648.804,     0.438,\n",
       "          -416.664,  -309.786,     0.   ,     0.   ,     0.   ,  -942.762,\n",
       "          -552.742,  -724.36 ,  -806.145, -1077.1  ,  -551.959,  -210.868,\n",
       "          -747.846,  -604.46 ,     0.   ,    22.73 ,  -671.735,  -226.664,\n",
       "          -422.689,  -456.314,  -238.792,  -480.826,  -257.928,     0.   ,\n",
       "          -504.937,  -582.483,   -96.625,  -904.435,     0.   ,  -371.237,\n",
       "          -728.941,  -187.461,  -841.965,  -228.453,  -336.803,  -941.957,\n",
       "          -613.207,  -154.144,  -234.206,  -632.447,   572.339,  -316.506,\n",
       "          -537.565,     0.   ,    37.345,   149.02 , -1004.292,     0.   ,\n",
       "          -221.963,  -601.301,  -700.89 ,     0.   ,   -40.332,  -732.049,\n",
       "             0.   ,  -409.543,  -361.575,  -839.08 ,  5407.495,  -455.139,\n",
       "            84.761,  -187.481,  -432.943,  -457.326,  -328.115,  -658.041,\n",
       "          -755.862,   480.493,     0.   ,   289.212,  -495.277,   625.979,\n",
       "             0.   ,   585.463,  -296.718,  -750.553,  -476.051,     0.   ,\n",
       "          -369.245,  -456.881,   456.418,   821.417,  1965.868,   704.925,\n",
       "           820.239,   697.449,  -497.333,  -664.061,  -211.605,  -471.413,\n",
       "          -238.077,   -52.993,  -494.814,  -559.554,     0.   ,   945.581,\n",
       "          -407.878,     0.   ,  -665.043,  -356.885,   638.769,  -479.566,\n",
       "          -374.864,  -676.956,  -121.705,  -537.942,  -962.708,   293.651,\n",
       "           539.468,     0.   ,   129.911,  -287.688,   -13.113,  -449.13 ,\n",
       "         -1382.66 ,  -749.608,  -373.373, -1569.915,   -50.796,     0.   ,\n",
       "             0.   ,  3200.751,  -463.701,  -299.115,  -773.012,     0.   ,\n",
       "           719.195,   -41.093,   399.511,  -275.489,  -519.383,   -31.257,\n",
       "          -217.134,   831.796,  -489.804,   442.574,  -964.381,     0.   ,\n",
       "          1277.743,     0.   ,  -150.171,     0.   , -1049.241,     0.   ,\n",
       "          -440.841,  -232.558,    46.147,  -408.079,  -300.818,  -377.119,\n",
       "          -402.275,   -74.272,  -397.551,  -965.255,  -668.555,  -248.991,\n",
       "          -337.673,     0.   ,  -630.172,  -900.486,  -604.84 ,   556.366,\n",
       "          -772.614,   -66.905,  -331.911,  -244.313, -1291.533,   305.228,\n",
       "             0.   , -1000.697,     0.   ,  -679.664,  -325.638,  -227.927,\n",
       "          -312.688,  -511.019,  1512.537,  -769.455,  -155.733,  -675.205,\n",
       "          -703.098,  -611.267,  -233.04 ,  -473.839,  -456.715,  -530.664,\n",
       "          -529.392,   -96.832,    37.403,   745.695,  -506.938,  -424.567,\n",
       "          -566.51 ,  -194.928,  -471.007,  -795.802,  -147.642, -1011.252,\n",
       "          -440.034,  -384.426,  -232.485,   129.01 ,   462.831,  -265.603,\n",
       "            73.506,     0.   ,   152.59 ,  -233.68 ,    94.393,  -147.835,\n",
       "          -327.046,    52.893,     0.   ,  -280.897,  -209.473,     0.   ,\n",
       "          -449.754,  -342.629,  -642.655,   -74.949,     0.   ,  -392.54 ,\n",
       "          -131.001,  -737.46 ,  -484.8  ,  -518.228,  -521.248,     0.   ,\n",
       "          -403.505,  -418.433,  -704.085,  -457.289,     0.   ,  -305.851,\n",
       "          -342.947,   206.513,  -589.854,   -89.055,     0.   ,     0.   ,\n",
       "          -465.197,  -512.509,     0.   ,     0.   ,   736.463,    64.12 ,\n",
       "           578.927,  -477.086,  -424.513,  -149.531,  -501.801,  -533.592,\n",
       "          -279.935,  -823.548,  -233.298,  -314.12 ,  -870.779,  -564.49 ,\n",
       "           -27.389,  -142.192,  -150.329,  -313.286,   860.727,   302.884,\n",
       "          -279.949,  -438.577,  -532.133,  -721.424,  -488.046,  -853.323,\n",
       "          1116.618,  -958.082,  -350.699,  -265.018,  -931.639,  -587.667,\n",
       "          -917.073,  -538.16 ,  -954.335,  -670.236,  5090.136,   -71.529,\n",
       "          -740.596,     0.   ,     0.   ,  -581.981,  -150.62 ,  -551.071,\n",
       "          -374.969,  -524.309,  -287.912,  -210.258, -1158.947,  -299.626,\n",
       "          -193.853, -1173.593,  -947.851,   -87.322,    58.016,  -694.534,\n",
       "          -474.548,   -97.414,  -430.359,     0.   ,  -413.188,  -921.755,\n",
       "          -392.013,     0.   ,  1078.83 ,  -612.805,     0.   ]]))"
      ]
     },
     "execution_count": 18,
     "metadata": {},
     "output_type": "execute_result"
    }
   ],
   "source": [
    "(lm_ridge_cv.intercept_,lm_ridge_cv.coef_)"
   ]
  },
  {
   "cell_type": "code",
   "execution_count": 19,
   "metadata": {},
   "outputs": [
    {
     "data": {
      "text/plain": [
       "(1335.164986631789,\n",
       " array([  -1.665,    1.531,   -0.   ,   -0.   ,  609.484,   -0.   ,\n",
       "           0.   , -107.017,    0.   ,  163.142,  -49.872,   -0.   ,\n",
       "          -0.   ,  -14.432,  414.846,    0.   ,    0.   , -222.14 ,\n",
       "          -0.   ,   -0.   ,   -0.   ,    0.   ,   52.546,   -0.   ,\n",
       "           0.   ,  -67.189,   -0.   ,   -0.   ,   -0.   ,    0.   ,\n",
       "          -0.   ,    0.   ,   -0.   ,    0.   ,  133.007,    0.   ,\n",
       "          -0.   ,   -0.   ,  226.452,   -0.   ,   -0.   ,   -0.   ,\n",
       "          -0.   ,   -0.   ,    0.   ,    0.   ,   -0.   ,   -0.   ,\n",
       "           0.   ,    0.   ,   -0.   ,   -0.   ,   -0.   ,   -0.   ,\n",
       "          -0.   ,    0.   ,  -24.021,    0.   ,   -0.   ,    0.   ,\n",
       "        -223.756,    0.   ,    0.   ,  -97.433,    0.   ,    0.   ,\n",
       "           0.   ,   -0.   ,    0.   ,    0.   ,    0.   ,    0.   ,\n",
       "           0.   ,    0.   ,    0.   ,   -0.   ,    0.   ,   -0.   ,\n",
       "          -0.   ,    0.   ,    0.   ,    0.   ,    0.   ,   -0.   ,\n",
       "           0.   ,   -0.   ,   -0.   ,    0.   ,   -0.   ,   -0.   ,\n",
       "           0.   ,   -0.   ,    0.   ,   -0.   ,    0.   ,    0.   ,\n",
       "           0.   ,    0.   ,   -0.   ,    0.   ,  152.328,    0.   ,\n",
       "           0.   ,    0.   ,   -0.   ,  596.962,    0.   ,  -13.159,\n",
       "           0.   ,   -0.   ,   -0.   ,    0.   ,   -0.   ,    0.   ,\n",
       "          -0.   ,   -0.   ,    0.   ,    0.   ,    0.   ,    0.   ,\n",
       "           0.   ,    0.   ,    0.   ,  810.773,   -0.   ,   -0.   ,\n",
       "          -0.   ,   -0.   ,    0.   ,    0.   ,   -0.   ,   -0.   ,\n",
       "           0.   ,   -0.   ,    0.   , -315.771,   -0.   ,   -0.   ,\n",
       "          -0.   ,    0.   ,    0.   ,   -0.   ,   -0.   ,   -0.   ,\n",
       "         303.022,   -0.   ,    0.   ,   -0.   ,   31.282,   -0.   ,\n",
       "           0.   ,   -0.   ,    0.   ,    0.   ,    0.   ,  214.597,\n",
       "          -0.   ,   -0.   ,   -0.   ,    0.   ,   -0.   ,  -66.789,\n",
       "           0.   ,    0.   ,   -0.   ,   -0.   ,   -0.   ,   -0.   ,\n",
       "          -0.   ,   -0.   ,    0.   ,    0.   ,   -0.   ,    0.   ,\n",
       "          -0.   ,    0.   ,   -0.   ,   -0.   ,   -0.   ,   -0.   ,\n",
       "          -0.   ,   -0.   ,    0.   ,    0.   ,   10.118,   -0.   ,\n",
       "          -0.   ,    0.   ,   -0.   ,    0.   ,   -0.   ,    0.   ,\n",
       "        -315.495, -136.011,    0.   ,   -0.   ,    0.   ,   -0.   ,\n",
       "           0.   ,   -0.   ,    0.   ,   -0.   ,    0.   ,   -0.   ,\n",
       "          -0.   ,   20.422,    0.   ,    0.   ,    0.   ,   -0.   ,\n",
       "           0.   ,   -0.   ,   -0.   ,    0.   ,    0.   ,    0.   ,\n",
       "           0.   ,    0.   ,   -0.   ,   -0.   ,   -0.   ,   -0.   ,\n",
       "           0.   ,    0.   ,   -0.   ,    0.   ,    0.   ,    0.   ,\n",
       "          -0.   ,    0.   ,    0.   ,    0.   ,   -0.   ,    0.   ,\n",
       "           0.   ,   -0.   ,   56.526,    0.   ,   -0.   ,   -0.   ,\n",
       "           0.   ,    0.   ,   -0.   ,    0.   ,   -0.   ,   -0.   ,\n",
       "           0.   ,    0.   ,    0.   ,   -0.   ,    0.   , -130.055,\n",
       "        -216.103,   48.567,   -0.   ,    0.   ,    0.   ,   -0.   ,\n",
       "          -0.   ,   -0.   ,   -0.   ,    0.   ,    0.   ,   -0.   ,\n",
       "           0.   , -143.172,   -0.   ,    0.   ,   -0.   ,    0.   ,\n",
       "           0.   ,   -0.   ,   -0.   ,    0.   ,   -0.   ,    0.   ,\n",
       "          89.993,    0.   ,   -0.   ,   -0.   ,    0.   ,    0.   ,\n",
       "          -0.   ,   -0.   ,   -0.   ,   -0.   ,    0.   ,    0.   ,\n",
       "          -0.   ,    0.   ,   -0.   ,    0.   ,   -0.   ,   -0.   ,\n",
       "          -0.   ,   -0.   ,   -0.   ,    0.   ,   -0.   ,   -0.   ,\n",
       "           0.   ,   -0.   ,   -0.   ,   -0.   ,    0.   ,    0.   ,\n",
       "           0.   ,    0.   ,    0.   ,   -0.   ,   -0.   ,    0.   ,\n",
       "           0.   ,    0.   ,   -0.   ,  918.646,   -0.   ,   -0.   ,\n",
       "           0.   ,   -0.   ,    0.   ,   -0.   ,    0.   ,   -0.   ,\n",
       "           0.   ,    0.   ,   -0.   ,    0.   ,    0.   ,    0.   ,\n",
       "         -77.673,   -0.   ,   -0.   ,    0.   ,  812.989,    0.   ,\n",
       "           0.   ,   -0.   ,   -0.   ,   -0.   ,   -0.   ,   -0.   ,\n",
       "          -0.   ,    0.   ,   -0.   ,   -0.   ,   -0.   ,    0.   ,\n",
       "          -0.   ,   -0.   ,    0.   ,    0.   ,    0.   ,   -0.   ,\n",
       "          -0.   ,   -0.   ,   -0.   ,   -0.   ,   -0.   ,    0.   ,\n",
       "          -0.   ,   -0.   ,    0.   ,    0.   ,   -0.   ,   -0.   ,\n",
       "          -0.   ,   -0.   ,    0.   ,   -0.   ,   -0.   ,    0.   ,\n",
       "          -0.   ,   -0.   ,    0.   ,   -0.   ,    0.   ,   -0.   ,\n",
       "          -0.   ,    0.   ,   -0.   ,   -0.   ,   -0.   ,   -0.   ,\n",
       "          -0.   ,    0.   ,    0.   ,   -0.   ,  649.307,   -0.   ,\n",
       "        -139.194,    0.   ,    0.   ,    0.   ,   -0.   ,    0.   ,\n",
       "          -0.   ,   -0.   ,   -0.   ,    0.   ,    0.   ,   -0.   ,\n",
       "           0.   ,   -0.   ,   -0.   ,   -0.   , 2596.267,   -0.   ,\n",
       "           0.   ,    0.   ,  -62.791,   -0.   ,   -0.   ,  -38.51 ,\n",
       "          -0.   ,  576.046,    0.   ,  435.663,   -0.   ,  612.775,\n",
       "           0.   ,  712.442,    0.   , -232.996,   -0.   ,    0.   ,\n",
       "          -0.   ,   -0.   ,    0.   ,  892.841, 1852.207,  675.225,\n",
       "         720.754,  257.716,   -0.   ,   -0.   ,   -0.   ,   -0.   ,\n",
       "          -0.   ,   -0.   ,   -0.   , -121.573,    0.   ,  131.378,\n",
       "          -0.   ,    0.   ,   -0.   ,   -0.   ,    0.   ,   -0.   ,\n",
       "          -0.   ,   -0.   ,    0.   ,   -0.   ,   -0.   ,    0.   ,\n",
       "         177.279,    0.   ,    0.   ,    0.   ,    0.   ,   -0.   ,\n",
       "          -0.   ,   -0.   ,   -0.   ,   -0.   ,    0.   ,    0.   ,\n",
       "           0.   , 3204.934,   -0.   ,   -0.   ,   -0.   ,    0.   ,\n",
       "           0.   ,    0.   ,    0.   ,   -0.   ,   -0.   ,   11.453,\n",
       "          -0.   ,  878.616,   -0.   ,  269.844,   -0.   ,    0.   ,\n",
       "           0.   ,    0.   ,    0.   ,    0.   ,   -0.   ,    0.   ,\n",
       "          -0.   ,   -0.   ,    0.   ,   -0.   ,   -0.   ,   -0.   ,\n",
       "          -0.   ,    0.   ,   -0.   ,   -0.   ,   -0.   ,   -0.   ,\n",
       "          -0.   ,    0.   ,   -0.   , -179.904,   -0.   ,  782.716,\n",
       "          -0.   ,    0.   ,   -0.   ,   -0.   ,   -0.   ,  396.367,\n",
       "           0.   ,   -0.   ,    0.   ,   -0.   ,   -0.   ,   -0.   ,\n",
       "          -0.   ,   -0.   , 1007.049, -163.502,    0.   , -226.569,\n",
       "          -0.   , -236.197,   -0.   ,   -0.   ,   -0.   ,   -0.   ,\n",
       "          -0.   ,    0.   ,    0.   ,  568.488,   -0.   ,   -0.   ,\n",
       "          -0.   ,    0.   ,   -0.   ,   -0.   ,    0.   ,   -0.   ,\n",
       "          -0.   ,   -0.   ,    0.   ,   -0.   ,    0.   ,    0.   ,\n",
       "           0.   ,    0.   ,    0.   ,   -0.   ,    0.   ,    0.   ,\n",
       "          -0.   ,    0.   ,    0.   ,   -0.   ,   -0.   ,    0.   ,\n",
       "          -0.   ,   -0.   ,   -0.   ,   75.831,    0.   ,   -0.   ,\n",
       "           0.   ,   -0.   ,   -0.   ,   -0.   ,   -0.   ,    0.   ,\n",
       "          -0.   ,   -0.   ,   -0.   ,   -0.   ,    0.   ,   -0.   ,\n",
       "          -0.   ,    0.   ,  -58.85 ,    0.   ,    0.   ,    0.   ,\n",
       "          -0.   ,   -0.   ,    0.   ,    0.   ,  799.878,   10.871,\n",
       "           0.   ,   -0.   ,   -0.   ,    0.   ,   -0.   ,  -91.269,\n",
       "           0.   ,   -0.   ,   -0.   ,   -0.   ,   -0.   ,   -0.   ,\n",
       "           5.622,    0.   ,    0.   ,   -0.   ,    0.   ,    0.   ,\n",
       "          -0.   ,   -0.   ,   -0.   ,   -0.   ,   -0.   ,   -0.   ,\n",
       "           0.   , -476.319,   -0.   ,   -0.   ,   -0.   ,   -0.   ,\n",
       "          -0.   ,   -0.   ,   -0.   ,   -0.   , 2201.349,    0.   ,\n",
       "          -0.   ,    0.   ,    0.   ,   -0.   ,    0.   ,   -0.   ,\n",
       "          -0.   ,   -0.   ,   -0.   ,    0.   ,   -0.   ,   -0.   ,\n",
       "          -0.   ,   -0.   ,   -0.   ,   -0.   ,   94.017,   -0.   ,\n",
       "          -0.   ,    0.   ,   -0.   ,    0.   ,   -0.   ,   -0.   ,\n",
       "          -0.   ,    0.   ,    0.   ,   -0.   ,    0.   ]))"
      ]
     },
     "execution_count": 19,
     "metadata": {},
     "output_type": "execute_result"
    }
   ],
   "source": [
    "(lm_lasso_cv.intercept_,lm_lasso_cv.coef_)"
   ]
  },
  {
   "cell_type": "code",
   "execution_count": 20,
   "metadata": {},
   "outputs": [
    {
     "data": {
      "text/plain": [
       "Index(['surface_total_in_m2', 'surface_covered_in_m2', 'rooms', 'prop_type_PH',\n",
       "       'prop_type_apartment', 'prop_type_house', 'prop_type_store', 'curr_ARS',\n",
       "       'curr_USD', 'state_Bs.As. G.B.A. Zona Norte',\n",
       "       ...\n",
       "       'place_Villa del Parque', 'place_Village Golf & Tennis Country Club',\n",
       "       'place_Virasoro Village', 'place_Virrey del Pino', 'place_Virreyes',\n",
       "       'place_Wilde', 'place_William Morris', 'place_Yerba Buena',\n",
       "       'place_Zelaya', 'place_coordenadas 34.255511'],\n",
       "      dtype='object', length=659)"
      ]
     },
     "execution_count": 20,
     "metadata": {},
     "output_type": "execute_result"
    }
   ],
   "source": [
    "Features.columns"
   ]
  },
  {
   "cell_type": "code",
   "execution_count": 21,
   "metadata": {},
   "outputs": [
    {
     "name": "stdout",
     "output_type": "stream",
     "text": [
      " Test RMSE lineal= 470675331.01\n",
      " Test RMSE Ridge = 636.68\n",
      " Test RMSE Lasso = 663.94\n"
     ]
    }
   ],
   "source": [
    "# Hacemos las predicciones sobre la matriz de predictores del Test Set\n",
    "\n",
    "y_pred_lm = lm.predict(X_test)\n",
    "y_pred_ridge = lm_ridge_cv.predict(X_test)\n",
    "y_pred_lasso = lm_lasso_cv.predict(X_test)\n",
    "\n",
    "# Testeo final del modelo sobre Test Set\n",
    "\n",
    "print(\" Test RMSE lineal= %.2f\\n\" % rmse(y_test, y_pred_lm),\n",
    "      \"Test RMSE Ridge = %.2f\\n\" %  rmse(y_test, y_pred_ridge),\n",
    "      \"Test RMSE Lasso = %.2f\" %  rmse(y_test, y_pred_lasso))"
   ]
  },
  {
   "cell_type": "code",
   "execution_count": 22,
   "metadata": {},
   "outputs": [
    {
     "data": {
      "image/png": "[encoded data removed]",
      "text/plain": [
       "<Figure size 432x288 with 1 Axes>"
      ]
     },
     "metadata": {},
     "output_type": "display_data"
    },
    {
     "name": "stdout",
     "output_type": "stream",
     "text": [
      "EMC: 440812.37621992826\n"
     ]
    }
   ],
   "source": [
    "# Graficamos el modelo.\n",
    "\n",
    "plt.scatter(y_pred_lasso, y_test, s=30, c='r', marker='+', zorder=10)\n",
    "\n",
    "plt.xlabel(\"Predicciones de price_per_m2 usando todas las features\")\n",
    "plt.ylabel(\"Valores reales price_per_m2\")\n",
    "plt.plot(y_test,y_test, '-.',c='grey',zorder=11)\n",
    "plt.show()\n",
    "\n",
    "print (\"EMC:\", mean_squared_error(y_test, y_pred_lasso))\n",
    "prevMSE = mean_squared_error(y_test, y_pred_lasso)\n"
   ]
  },
  {
   "cell_type": "code",
   "execution_count": 24,
   "metadata": {},
   "outputs": [
    {
     "data": {
      "image/png": "[encoded data removed]",
      "text/plain": [
       "<Figure size 432x288 with 1 Axes>"
      ]
     },
     "metadata": {},
     "output_type": "display_data"
    },
    {
     "name": "stdout",
     "output_type": "stream",
     "text": [
      "EMC: 405361.93380945915\n"
     ]
    }
   ],
   "source": [
    "# Graficamos el modelo.\n",
    "\n",
    "plt.scatter(y_pred_ridge, y_test, s=30, c='r', marker='+', zorder=10)\n",
    "\n",
    "plt.xlabel(\"Predicciones de price_per_m2 usando todas las features\")\n",
    "plt.ylabel(\"Valores reales price_per_m2\")\n",
    "plt.plot(y_test,y_test, '-.',c='grey',zorder=11)\n",
    "plt.show()\n",
    "\n",
    "print (\"EMC:\", mean_squared_error(y_test, y_pred_ridge))\n",
    "prevMSE = mean_squared_error(y_test, y_pred_ridge)"
   ]
  },
  {
   "cell_type": "code",
   "execution_count": 25,
   "metadata": {},
   "outputs": [
    {
     "data": {
      "image/png": "[encoded data removed]",
      "text/plain": [
       "<Figure size 432x288 with 1 Axes>"
      ]
     },
     "metadata": {},
     "output_type": "display_data"
    },
    {
     "name": "stdout",
     "output_type": "stream",
     "text": [
      "EMC: 2.215352672188579e+17\n"
     ]
    }
   ],
   "source": [
    "# Graficamos el modelo.\n",
    "\n",
    "plt.scatter(y_pred_lm, y_test, s=30, c='r', marker='+', zorder=10)\n",
    "\n",
    "plt.xlabel(\"Predicciones de price_per_m2 usando todas las features\")\n",
    "plt.ylabel(\"Valores reales price_per_m2\")\n",
    "plt.plot(y_test,y_test, '-.',c='grey',zorder=11)\n",
    "plt.show()\n",
    "\n",
    "print (\"EMC:\", mean_squared_error(y_test, y_pred_lm))\n",
    "prevMSE = mean_squared_error(y_test, y_pred_lm)"
   ]
  },
  {
   "cell_type": "code",
   "execution_count": 23,
   "metadata": {},
   "outputs": [
    {
     "data": {
      "text/plain": [
       "440812.37621992826"
      ]
     },
     "execution_count": 23,
     "metadata": {},
     "output_type": "execute_result"
    }
   ],
   "source": [
    "prevMSE"
   ]
  },
  {
   "cell_type": "code",
   "execution_count": 51,
   "metadata": {},
   "outputs": [
    {
     "data": {
      "text/plain": [
       "28191400.91"
      ]
     },
     "execution_count": 51,
     "metadata": {},
     "output_type": "execute_result"
    }
   ],
   "source": [
    "portafolio = properati.sample(100)\n",
    "\n",
    "mi_dinero_usd = portafolio.price_aprox_usd.sum()\n",
    "mi_dinero_usd"
   ]
  },
  {
   "cell_type": "code",
   "execution_count": 54,
   "metadata": {},
   "outputs": [],
   "source": [
    "properati[\"precio_predicho_usd_m2\"]  = lm_ridge_cv.predict(Features)\n"
   ]
  },
  {
   "cell_type": "code",
   "execution_count": 61,
   "metadata": {},
   "outputs": [],
   "source": [
    "properati[\"error\"] = properati[\"price_usd_per_m2\"] - properati[\"precio_predicho_usd_m2\"]"
   ]
  },
  {
   "cell_type": "code",
   "execution_count": 62,
   "metadata": {},
   "outputs": [],
   "source": [
    "properati.to_csv(\"properati_portafolio.csv\", encoding='utf-8', index=False)"
   ]
  }
 ],
 "metadata": {
  "kernelspec": {
   "display_name": "Python 3",
   "language": "python",
   "name": "python3"
  },
  "language_info": {
   "codemirror_mode": {
    "name": "ipython",
    "version": 3
   },
   "file_extension": ".py",
   "mimetype": "text/x-python",
   "name": "python",
   "nbconvert_exporter": "python",
   "pygments_lexer": "ipython3",
   "version": "3.6.6"
  }
 },
 "nbformat": 4,
 "nbformat_minor": 2
}
